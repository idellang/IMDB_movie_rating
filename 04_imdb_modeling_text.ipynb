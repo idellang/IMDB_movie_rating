{
 "cells": [
  {
   "cell_type": "code",
   "execution_count": 71,
   "metadata": {},
   "outputs": [],
   "source": [
    "import pandas as pd \n",
    "import numpy as np \n",
    "import matplotlib.pyplot as plt\n",
    "import seaborn as sns\n",
    "\n",
    "%matplotlib inline"
   ]
  },
  {
   "cell_type": "code",
   "execution_count": 72,
   "metadata": {},
   "outputs": [],
   "source": [
    "data = pd.read_csv('files/merged_movies.csv')"
   ]
  },
  {
   "cell_type": "code",
   "execution_count": 73,
   "metadata": {},
   "outputs": [],
   "source": [
    "# drop duplicates\n",
    "data = data.drop_duplicates(subset ='tconst')"
   ]
  },
  {
   "cell_type": "markdown",
   "metadata": {},
   "source": [
    "### For now use the weighted rating as outcome"
   ]
  },
  {
   "cell_type": "code",
   "execution_count": 74,
   "metadata": {},
   "outputs": [
    {
     "name": "stdout",
     "output_type": "stream",
     "text": [
      "(33295, 37)\n"
     ]
    },
    {
     "data": {
      "text/plain": [
       "Index(['tconst', 'primaryTitle', 'originalTitle', 'runtimeMinutes', 'genres_x',\n",
       "       'averageRating', 'numVotes', 'has_well_known_director',\n",
       "       'directors_name', 'has_well_known_actors', 'primary_actors', 'id_int',\n",
       "       'keywords', 'belongs_to_collection', 'budget', 'genres_y', 'homepage',\n",
       "       'original_language', 'overview', 'popularity', 'production_companies',\n",
       "       'production_countries', 'release_date', 'revenue', 'runtime',\n",
       "       'spoken_languages', 'tagline', 'vote_average', 'vote_count',\n",
       "       'weighted_rating', 'adjusted_budget', 'adjusted_revenue',\n",
       "       'original_english', 'has_production_companies',\n",
       "       'is_top_production_company', 'release_month', 'has_tag_line'],\n",
       "      dtype='object')"
      ]
     },
     "execution_count": 74,
     "metadata": {},
     "output_type": "execute_result"
    }
   ],
   "source": [
    "print(data.shape)\n",
    "data.columns"
   ]
  },
  {
   "cell_type": "markdown",
   "metadata": {},
   "source": [
    "### Select cols for model"
   ]
  },
  {
   "cell_type": "code",
   "execution_count": 75,
   "metadata": {},
   "outputs": [],
   "source": [
    "cols = ['tconst','runtimeMinutes', 'averageRating','numVotes','weighted_rating', 'runtime','vote_average','vote_count', # important features\n",
    "        'genres_x', 'genres_y', 'adjusted_budget', 'adjusted_revenue', 'release_month', # possible predictive features\n",
    "        'has_well_known_director','has_well_known_actors', 'is_top_production_company', # binary extracted features\n",
    "        'production_countries','belongs_to_collection','has_tag_line','homepage','spoken_languages','original_english',\n",
    "        'popularity','keywords','overview','directors_name','primary_actors' \n",
    "        ]\n",
    "movie_models = data[cols]"
   ]
  },
  {
   "cell_type": "code",
   "execution_count": 76,
   "metadata": {},
   "outputs": [],
   "source": [
    "# for now select those with at least 5k votes\n",
    "movie_models = movie_models[movie_models['numVotes'] > 5000]"
   ]
  },
  {
   "cell_type": "code",
   "execution_count": 77,
   "metadata": {},
   "outputs": [],
   "source": [
    "remove_for_now_cols = ['runtime','vote_average','vote_count','averageRating','numVotes','genres_y','adjusted_revenue','popularity']\n",
    "model_cols = [col for col in movie_models.columns if col not in remove_for_now_cols]\n",
    "movie_models = movie_models[model_cols]"
   ]
  },
  {
   "cell_type": "code",
   "execution_count": 79,
   "metadata": {},
   "outputs": [
    {
     "data": {
      "text/plain": [
       "tconst                         0\n",
       "runtimeMinutes                 0\n",
       "weighted_rating                0\n",
       "genres_x                       0\n",
       "adjusted_budget                1\n",
       "release_month                  1\n",
       "has_well_known_director        0\n",
       "has_well_known_actors          0\n",
       "is_top_production_company      0\n",
       "production_countries           0\n",
       "belongs_to_collection          0\n",
       "has_tag_line                   0\n",
       "homepage                       0\n",
       "spoken_languages               0\n",
       "original_english               0\n",
       "keywords                       0\n",
       "overview                      23\n",
       "directors_name                 1\n",
       "primary_actors               271\n",
       "dtype: int64"
      ]
     },
     "execution_count": 79,
     "metadata": {},
     "output_type": "execute_result"
    }
   ],
   "source": [
    "movie_models.isnull().sum()"
   ]
  },
  {
   "cell_type": "code",
   "execution_count": 80,
   "metadata": {},
   "outputs": [],
   "source": [
    "# same size as basic data\n",
    "movie_models = movie_models[movie_models['adjusted_budget'].notnull()]"
   ]
  },
  {
   "cell_type": "code",
   "execution_count": 81,
   "metadata": {},
   "outputs": [],
   "source": [
    "# binary weighted rating for now\n",
    "movie_models['weighted_rating'] = (movie_models['weighted_rating'] > 7).astype(int)"
   ]
  },
  {
   "cell_type": "markdown",
   "metadata": {},
   "source": [
    "### Preprocessing"
   ]
  },
  {
   "cell_type": "markdown",
   "metadata": {},
   "source": [
    "#### Filter those with budget > 0"
   ]
  },
  {
   "cell_type": "code",
   "execution_count": 82,
   "metadata": {},
   "outputs": [],
   "source": [
    "movie_models = movie_models[movie_models['adjusted_budget'] > 0]"
   ]
  },
  {
   "cell_type": "code",
   "execution_count": 83,
   "metadata": {},
   "outputs": [
    {
     "data": {
      "text/plain": [
       "(6189, 19)"
      ]
     },
     "execution_count": 83,
     "metadata": {},
     "output_type": "execute_result"
    }
   ],
   "source": [
    "movie_models.shape"
   ]
  },
  {
   "cell_type": "markdown",
   "metadata": {},
   "source": [
    "#### Select text data"
   ]
  },
  {
   "cell_type": "code",
   "execution_count": 84,
   "metadata": {},
   "outputs": [
    {
     "data": {
      "text/plain": [
       "Index(['tconst', 'runtimeMinutes', 'weighted_rating', 'genres_x',\n",
       "       'adjusted_budget', 'release_month', 'has_well_known_director',\n",
       "       'has_well_known_actors', 'is_top_production_company',\n",
       "       'production_countries', 'belongs_to_collection', 'has_tag_line',\n",
       "       'homepage', 'spoken_languages', 'original_english', 'keywords',\n",
       "       'overview', 'directors_name', 'primary_actors'],\n",
       "      dtype='object')"
      ]
     },
     "execution_count": 84,
     "metadata": {},
     "output_type": "execute_result"
    }
   ],
   "source": [
    "movie_models.columns"
   ]
  },
  {
   "cell_type": "code",
   "execution_count": 85,
   "metadata": {},
   "outputs": [],
   "source": [
    "movie_models = movie_models[['tconst','keywords','overview','directors_name','primary_actors','weighted_rating']]"
   ]
  },
  {
   "cell_type": "code",
   "execution_count": 86,
   "metadata": {},
   "outputs": [],
   "source": [
    "import ast"
   ]
  },
  {
   "cell_type": "code",
   "execution_count": 87,
   "metadata": {},
   "outputs": [],
   "source": [
    "def get_keywords(string):\n",
    "    string_li = ast.literal_eval(string)\n",
    "    return ','.join(string_li)\n",
    "\n",
    "movie_models['keywords'] = movie_models['keywords'].apply(get_keywords)"
   ]
  },
  {
   "cell_type": "code",
   "execution_count": 88,
   "metadata": {},
   "outputs": [],
   "source": [
    "movie_models = movie_models.fillna('')"
   ]
  },
  {
   "cell_type": "code",
   "execution_count": 89,
   "metadata": {},
   "outputs": [
    {
     "name": "stdout",
     "output_type": "stream",
     "text": [
      "True\n"
     ]
    },
    {
     "data": {
      "text/html": [
       "<div>\n",
       "<style scoped>\n",
       "    .dataframe tbody tr th:only-of-type {\n",
       "        vertical-align: middle;\n",
       "    }\n",
       "\n",
       "    .dataframe tbody tr th {\n",
       "        vertical-align: top;\n",
       "    }\n",
       "\n",
       "    .dataframe thead th {\n",
       "        text-align: right;\n",
       "    }\n",
       "</style>\n",
       "<table border=\"1\" class=\"dataframe\">\n",
       "  <thead>\n",
       "    <tr style=\"text-align: right;\">\n",
       "      <th></th>\n",
       "      <th>tconst</th>\n",
       "      <th>keywords</th>\n",
       "      <th>overview</th>\n",
       "      <th>directors_name</th>\n",
       "      <th>primary_actors</th>\n",
       "      <th>weighted_rating</th>\n",
       "    </tr>\n",
       "  </thead>\n",
       "  <tbody>\n",
       "    <tr>\n",
       "      <th>21</th>\n",
       "      <td>tt0004972</td>\n",
       "      <td></td>\n",
       "      <td>The Birth of A Nation is a silent film from 19...</td>\n",
       "      <td>D.W. Griffith</td>\n",
       "      <td>Lillian Gish,Mae Marsh,Henry B. Walthall</td>\n",
       "      <td>0</td>\n",
       "    </tr>\n",
       "    <tr>\n",
       "      <th>33</th>\n",
       "      <td>tt0006864</td>\n",
       "      <td></td>\n",
       "      <td>The story of a poor young woman, separated by ...</td>\n",
       "      <td>D.W. Griffith</td>\n",
       "      <td>Lillian Gish,Robert Harron,Mae Marsh</td>\n",
       "      <td>0</td>\n",
       "    </tr>\n",
       "    <tr>\n",
       "      <th>62</th>\n",
       "      <td>tt0010323</td>\n",
       "      <td></td>\n",
       "      <td>The Cabinet of Dr. Caligari is eerie and expre...</td>\n",
       "      <td>Robert Wiene</td>\n",
       "      <td>Werner Krauss,Conrad Veidt,Friedrich Feher</td>\n",
       "      <td>1</td>\n",
       "    </tr>\n",
       "    <tr>\n",
       "      <th>86</th>\n",
       "      <td>tt0012349</td>\n",
       "      <td></td>\n",
       "      <td>Considered one of Charlie Chaplin's best films...</td>\n",
       "      <td>Charles Chaplin</td>\n",
       "      <td>Charles Chaplin,Edna Purviance,Jackie Coogan</td>\n",
       "      <td>1</td>\n",
       "    </tr>\n",
       "    <tr>\n",
       "      <th>101</th>\n",
       "      <td>tt0013427</td>\n",
       "      <td></td>\n",
       "      <td>This pioneering documentary film depicts the l...</td>\n",
       "      <td>Robert J. Flaherty</td>\n",
       "      <td>Allakariallak,Alice Nevalinga,Cunayou</td>\n",
       "      <td>0</td>\n",
       "    </tr>\n",
       "  </tbody>\n",
       "</table>\n",
       "</div>"
      ],
      "text/plain": [
       "        tconst keywords                                           overview  \\\n",
       "21   tt0004972           The Birth of A Nation is a silent film from 19...   \n",
       "33   tt0006864           The story of a poor young woman, separated by ...   \n",
       "62   tt0010323           The Cabinet of Dr. Caligari is eerie and expre...   \n",
       "86   tt0012349           Considered one of Charlie Chaplin's best films...   \n",
       "101  tt0013427           This pioneering documentary film depicts the l...   \n",
       "\n",
       "         directors_name                                primary_actors  \\\n",
       "21        D.W. Griffith      Lillian Gish,Mae Marsh,Henry B. Walthall   \n",
       "33        D.W. Griffith          Lillian Gish,Robert Harron,Mae Marsh   \n",
       "62         Robert Wiene    Werner Krauss,Conrad Veidt,Friedrich Feher   \n",
       "86      Charles Chaplin  Charles Chaplin,Edna Purviance,Jackie Coogan   \n",
       "101  Robert J. Flaherty         Allakariallak,Alice Nevalinga,Cunayou   \n",
       "\n",
       "     weighted_rating  \n",
       "21                 0  \n",
       "33                 0  \n",
       "62                 1  \n",
       "86                 1  \n",
       "101                0  "
      ]
     },
     "execution_count": 89,
     "metadata": {},
     "output_type": "execute_result"
    }
   ],
   "source": [
    "print(movie_models['tconst'].is_unique)\n",
    "movie_models.head()"
   ]
  },
  {
   "cell_type": "markdown",
   "metadata": {},
   "source": [
    "#### Try to get keywords from plot"
   ]
  },
  {
   "cell_type": "code",
   "execution_count": 90,
   "metadata": {},
   "outputs": [],
   "source": [
    "# from keybert import KeyBERT\n",
    "# kw_model = KeyBERT(model='all-mpnet-base-v2')"
   ]
  },
  {
   "cell_type": "code",
   "execution_count": 91,
   "metadata": {},
   "outputs": [],
   "source": [
    "# def get_keyword(text):\n",
    "#     keywords = kw_model.extract_keywords(text, keyphrase_ngram_range=(1, 2), stop_words='english', highlight=False, top_n=3)\n",
    "\n",
    "#     keywords_list = list(dict(keywords).keys())\n",
    "#     return keywords_list\n",
    "\n",
    "# from tqdm import tqdm\n",
    "\n",
    "# all_keywords = []\n",
    "\n",
    "# for keyword in tqdm(movie_models['overview']):\n",
    "#     all_keywords.append(get_keyword(keyword))"
   ]
  },
  {
   "cell_type": "code",
   "execution_count": 92,
   "metadata": {},
   "outputs": [],
   "source": [
    "# movie_models['keywords_extract'] = all_keywords\n",
    "# movie_models.to_csv('movie_models_with_keywords.csv')movie_models.to_csv('movie_models_with_keywords.csv')"
   ]
  },
  {
   "cell_type": "markdown",
   "metadata": {},
   "source": [
    "#### Combine features into text"
   ]
  },
  {
   "cell_type": "code",
   "execution_count": 93,
   "metadata": {},
   "outputs": [],
   "source": [
    "# use this data with keywords\n",
    "movie_keywords= pd.read_csv('files/movie_models_with_keywords.csv')"
   ]
  },
  {
   "cell_type": "code",
   "execution_count": 129,
   "metadata": {},
   "outputs": [
    {
     "name": "stdout",
     "output_type": "stream",
     "text": [
      "God contacts Congressman Evan Baxter and tells him to build an ark in preparation for a great flood.\n",
      "****************************************************************************************************\n",
      "Keywords: ['build ark', 'great flood', 'ark']\n"
     ]
    }
   ],
   "source": [
    "# function to check keyword from plot\n",
    "def random_overview():\n",
    "    sample = movie_keywords.sample(1)\n",
    "    print(sample['overview'].values[0])\n",
    "    print('*' * 100)\n",
    "    print('Keywords:',sample['keywords_extract'].values[0])\n",
    "\n",
    "random_overview()"
   ]
  },
  {
   "cell_type": "code",
   "execution_count": 95,
   "metadata": {},
   "outputs": [],
   "source": [
    "# get keywords\n",
    "movie_models = movie_models.merge(movie_keywords[['tconst','keywords_extract']], how = 'inner', on ='tconst')"
   ]
  },
  {
   "cell_type": "code",
   "execution_count": 96,
   "metadata": {},
   "outputs": [
    {
     "data": {
      "text/html": [
       "<div>\n",
       "<style scoped>\n",
       "    .dataframe tbody tr th:only-of-type {\n",
       "        vertical-align: middle;\n",
       "    }\n",
       "\n",
       "    .dataframe tbody tr th {\n",
       "        vertical-align: top;\n",
       "    }\n",
       "\n",
       "    .dataframe thead th {\n",
       "        text-align: right;\n",
       "    }\n",
       "</style>\n",
       "<table border=\"1\" class=\"dataframe\">\n",
       "  <thead>\n",
       "    <tr style=\"text-align: right;\">\n",
       "      <th></th>\n",
       "      <th>keywords</th>\n",
       "      <th>directors_name</th>\n",
       "      <th>primary_actors</th>\n",
       "      <th>keywords_extract</th>\n",
       "      <th>weighted_rating</th>\n",
       "    </tr>\n",
       "  </thead>\n",
       "  <tbody>\n",
       "    <tr>\n",
       "      <th>0</th>\n",
       "      <td></td>\n",
       "      <td>D.W. Griffith</td>\n",
       "      <td>Lillian Gish,Mae Marsh,Henry B. Walthall</td>\n",
       "      <td>['history film', 'film 1915', 'birth nation']</td>\n",
       "      <td>0</td>\n",
       "    </tr>\n",
       "    <tr>\n",
       "      <th>1</th>\n",
       "      <td></td>\n",
       "      <td>D.W. Griffith</td>\n",
       "      <td>Lillian Gish,Robert Harron,Mae Marsh</td>\n",
       "      <td>['tales intolerance', 'intolerance history', '...</td>\n",
       "      <td>0</td>\n",
       "    </tr>\n",
       "    <tr>\n",
       "      <th>2</th>\n",
       "      <td></td>\n",
       "      <td>Robert Wiene</td>\n",
       "      <td>Werner Krauss,Conrad Veidt,Friedrich Feher</td>\n",
       "      <td>['dr caligari', 'caligari eerie', 'caligari']</td>\n",
       "      <td>1</td>\n",
       "    </tr>\n",
       "    <tr>\n",
       "      <th>3</th>\n",
       "      <td></td>\n",
       "      <td>Charles Chaplin</td>\n",
       "      <td>Charles Chaplin,Edna Purviance,Jackie Coogan</td>\n",
       "      <td>['jackie coogan', 'charlie chaplin', 'little j...</td>\n",
       "      <td>1</td>\n",
       "    </tr>\n",
       "    <tr>\n",
       "      <th>4</th>\n",
       "      <td></td>\n",
       "      <td>Robert J. Flaherty</td>\n",
       "      <td>Allakariallak,Alice Nevalinga,Cunayou</td>\n",
       "      <td>['indigenous inuit', 'inuit people', 'inuit']</td>\n",
       "      <td>0</td>\n",
       "    </tr>\n",
       "  </tbody>\n",
       "</table>\n",
       "</div>"
      ],
      "text/plain": [
       "  keywords      directors_name                                primary_actors  \\\n",
       "0                D.W. Griffith      Lillian Gish,Mae Marsh,Henry B. Walthall   \n",
       "1                D.W. Griffith          Lillian Gish,Robert Harron,Mae Marsh   \n",
       "2                 Robert Wiene    Werner Krauss,Conrad Veidt,Friedrich Feher   \n",
       "3              Charles Chaplin  Charles Chaplin,Edna Purviance,Jackie Coogan   \n",
       "4           Robert J. Flaherty         Allakariallak,Alice Nevalinga,Cunayou   \n",
       "\n",
       "                                    keywords_extract  weighted_rating  \n",
       "0      ['history film', 'film 1915', 'birth nation']                0  \n",
       "1  ['tales intolerance', 'intolerance history', '...                0  \n",
       "2      ['dr caligari', 'caligari eerie', 'caligari']                1  \n",
       "3  ['jackie coogan', 'charlie chaplin', 'little j...                1  \n",
       "4      ['indigenous inuit', 'inuit people', 'inuit']                0  "
      ]
     },
     "execution_count": 96,
     "metadata": {},
     "output_type": "execute_result"
    }
   ],
   "source": [
    "movie_models = movie_models[['keywords','directors_name','primary_actors','keywords_extract','weighted_rating']]\n",
    "movie_models.head()"
   ]
  },
  {
   "cell_type": "markdown",
   "metadata": {},
   "source": [
    "#### Clean features and combine"
   ]
  },
  {
   "cell_type": "code",
   "execution_count": 97,
   "metadata": {},
   "outputs": [],
   "source": [
    "def separate_keywords(keywords_list):\n",
    "    keywords = ast.literal_eval(keywords_list)\n",
    "    return ' '.join(keywords)"
   ]
  },
  {
   "cell_type": "code",
   "execution_count": 98,
   "metadata": {},
   "outputs": [],
   "source": [
    "movie_models['keywords_extract'] = movie_models['keywords_extract'].apply(separate_keywords)"
   ]
  },
  {
   "cell_type": "code",
   "execution_count": 99,
   "metadata": {},
   "outputs": [],
   "source": [
    "movie_models[['directors_name','primary_actors']] = movie_models[['directors_name','primary_actors']].applymap(lambda x: x.replace(',', ' '))"
   ]
  },
  {
   "cell_type": "code",
   "execution_count": 100,
   "metadata": {},
   "outputs": [],
   "source": [
    "movie_models['text_feature'] =  movie_models[['keywords','directors_name','primary_actors','keywords_extract']].apply(lambda row: ' '.join(row.values.astype(str)), axis = 1)"
   ]
  },
  {
   "cell_type": "code",
   "execution_count": 101,
   "metadata": {},
   "outputs": [],
   "source": [
    "# save copy\n",
    "movie_models_original = movie_models.copy()"
   ]
  },
  {
   "cell_type": "code",
   "execution_count": 102,
   "metadata": {},
   "outputs": [],
   "source": [
    "movie_models = movie_models[['text_feature','weighted_rating']]"
   ]
  },
  {
   "cell_type": "code",
   "execution_count": 103,
   "metadata": {},
   "outputs": [
    {
     "data": {
      "text/html": [
       "<div>\n",
       "<style scoped>\n",
       "    .dataframe tbody tr th:only-of-type {\n",
       "        vertical-align: middle;\n",
       "    }\n",
       "\n",
       "    .dataframe tbody tr th {\n",
       "        vertical-align: top;\n",
       "    }\n",
       "\n",
       "    .dataframe thead th {\n",
       "        text-align: right;\n",
       "    }\n",
       "</style>\n",
       "<table border=\"1\" class=\"dataframe\">\n",
       "  <thead>\n",
       "    <tr style=\"text-align: right;\">\n",
       "      <th></th>\n",
       "      <th>text_feature</th>\n",
       "      <th>weighted_rating</th>\n",
       "    </tr>\n",
       "  </thead>\n",
       "  <tbody>\n",
       "    <tr>\n",
       "      <th>0</th>\n",
       "      <td>D.W. Griffith Lillian Gish Mae Marsh Henry B....</td>\n",
       "      <td>0</td>\n",
       "    </tr>\n",
       "    <tr>\n",
       "      <th>1</th>\n",
       "      <td>D.W. Griffith Lillian Gish Robert Harron Mae ...</td>\n",
       "      <td>0</td>\n",
       "    </tr>\n",
       "    <tr>\n",
       "      <th>2</th>\n",
       "      <td>Robert Wiene Werner Krauss Conrad Veidt Fried...</td>\n",
       "      <td>1</td>\n",
       "    </tr>\n",
       "    <tr>\n",
       "      <th>3</th>\n",
       "      <td>Charles Chaplin Charles Chaplin Edna Purvianc...</td>\n",
       "      <td>1</td>\n",
       "    </tr>\n",
       "    <tr>\n",
       "      <th>4</th>\n",
       "      <td>Robert J. Flaherty Allakariallak Alice Nevali...</td>\n",
       "      <td>0</td>\n",
       "    </tr>\n",
       "  </tbody>\n",
       "</table>\n",
       "</div>"
      ],
      "text/plain": [
       "                                        text_feature  weighted_rating\n",
       "0   D.W. Griffith Lillian Gish Mae Marsh Henry B....                0\n",
       "1   D.W. Griffith Lillian Gish Robert Harron Mae ...                0\n",
       "2   Robert Wiene Werner Krauss Conrad Veidt Fried...                1\n",
       "3   Charles Chaplin Charles Chaplin Edna Purvianc...                1\n",
       "4   Robert J. Flaherty Allakariallak Alice Nevali...                0"
      ]
     },
     "execution_count": 103,
     "metadata": {},
     "output_type": "execute_result"
    }
   ],
   "source": [
    "movie_models.head()"
   ]
  },
  {
   "cell_type": "markdown",
   "metadata": {},
   "source": [
    "#### Split train and test set"
   ]
  },
  {
   "cell_type": "code",
   "execution_count": 104,
   "metadata": {},
   "outputs": [],
   "source": [
    "from sklearn.model_selection import train_test_split\n",
    "\n",
    "X_train, X_test, y_train, y_test = train_test_split(movie_models['text_feature'], movie_models['weighted_rating'], \n",
    "                                        stratify= movie_models['weighted_rating'], test_size=.25, random_state=42)"
   ]
  },
  {
   "cell_type": "code",
   "execution_count": 105,
   "metadata": {},
   "outputs": [
    {
     "name": "stdout",
     "output_type": "stream",
     "text": [
      "(4641,)\n",
      "(1548,)\n",
      "0.23249299719887956\n",
      "0.23255813953488372\n"
     ]
    }
   ],
   "source": [
    "print(X_train.shape)\n",
    "print(X_test.shape)\n",
    "print(y_train.mean())\n",
    "print(y_test.mean())"
   ]
  },
  {
   "cell_type": "markdown",
   "metadata": {},
   "source": [
    "### Modeling\n",
    "\n",
    "Fit several models."
   ]
  },
  {
   "cell_type": "markdown",
   "metadata": {},
   "source": [
    "#### Naive Bayes"
   ]
  },
  {
   "cell_type": "code",
   "execution_count": 106,
   "metadata": {},
   "outputs": [
    {
     "name": "stdout",
     "output_type": "stream",
     "text": [
      "Fitting 3 folds for each of 100 candidates, totalling 300 fits\n",
      "Model fitting_time:  42.87541699409485\n"
     ]
    }
   ],
   "source": [
    "from sklearn.feature_extraction.text import TfidfVectorizer, CountVectorizer\n",
    "from sklearn.pipeline import Pipeline\n",
    "from sklearn.model_selection import RandomizedSearchCV\n",
    "from sklearn.naive_bayes import MultinomialNB\n",
    "from time import time\n",
    "\n",
    "nb_pipeline = Pipeline([('tfidf', TfidfVectorizer(analyzer= 'word', stop_words='english')),\n",
    "                        ('nb_clf', MultinomialNB())])\n",
    "\n",
    "nb_params = {\n",
    "    'tfidf__strip_accents': ['ascii','unicode',None],\n",
    "    'tfidf__ngram_range' : [(1,2), (1,3)],\n",
    "    'tfidf__max_df': (0.5, .75 , 1.0),\n",
    "    'nb_clf__alpha':  np.arange(0.01, 1.01, .01)\n",
    "\n",
    "}\n",
    "\n",
    "nb_grid = RandomizedSearchCV(nb_pipeline, param_distributions= nb_params, scoring='f1',  n_iter = 100, cv = 3, verbose=2, random_state=42, n_jobs = -1)\n",
    "start = time()\n",
    "nb_grid.fit(X_train, y_train)\n",
    "end = time()\n",
    "print('Model fitting_time: ', end - start)\n"
   ]
  },
  {
   "cell_type": "code",
   "execution_count": 107,
   "metadata": {},
   "outputs": [
    {
     "name": "stdout",
     "output_type": "stream",
     "text": [
      "Best F1 Score 0.3282407407407407\n",
      "Vocabulary size:  122451\n"
     ]
    },
    {
     "data": {
      "text/plain": [
       "Pipeline(steps=[('tfidf',\n",
       "                 TfidfVectorizer(max_df=0.75, ngram_range=(1, 3),\n",
       "                                 stop_words='english')),\n",
       "                ('nb_clf', MultinomialNB(alpha=0.02))])"
      ]
     },
     "execution_count": 107,
     "metadata": {},
     "output_type": "execute_result"
    }
   ],
   "source": [
    "# best estimator\n",
    "best_nb = nb_grid.best_estimator_\n",
    "print('Best F1 Score', nb_grid.best_score_)\n",
    "print('Vocabulary size: ', best_nb['tfidf'].transform(X_train).shape[1])\n",
    "best_nb"
   ]
  },
  {
   "cell_type": "code",
   "execution_count": 108,
   "metadata": {},
   "outputs": [
    {
     "name": "stdout",
     "output_type": "stream",
     "text": [
      "              precision    recall  f1-score   support\n",
      "\n",
      "           0       0.81      0.89      0.85      1188\n",
      "           1       0.47      0.32      0.38       360\n",
      "\n",
      "    accuracy                           0.76      1548\n",
      "   macro avg       0.64      0.60      0.61      1548\n",
      "weighted avg       0.73      0.76      0.74      1548\n",
      "\n",
      "AUC train:1.0\n",
      "AUC test :0.703\n",
      "\n",
      "Logloss 8.344705891581176\n",
      "****************************************************************************************************\n",
      "Confusion matrix\n"
     ]
    },
    {
     "data": {
      "image/png": "[encoded data removed]",
      "text/plain": [
       "<Figure size 432x288 with 1 Axes>"
      ]
     },
     "metadata": {
      "needs_background": "light"
     },
     "output_type": "display_data"
    }
   ],
   "source": [
    "from sklearn.metrics import classification_report, roc_auc_score, confusion_matrix, log_loss, f1_score\n",
    "import seaborn as sns \n",
    "\n",
    "def measure_metrics(model, y_pred, y_true, X_train = X_train, X_test = X_test):\n",
    "     print(classification_report(y_pred= y_pred, y_true= y_test))\n",
    "     proba_train = model.predict_proba(X_train)[:,1]\n",
    "     proba_test = model.predict_proba(X_test)[:,1]\n",
    "     \n",
    "     print(f\"AUC train:{round(roc_auc_score(y_train, proba_train),4)}\")\n",
    "     print(f\"AUC test :{round(roc_auc_score(y_test, proba_test),4)}\\n\")\n",
    "     print('Logloss', log_loss(y_pred= y_pred, y_true= y_test))\n",
    "\n",
    "     print('*' * 100)\n",
    "     print('Confusion matrix')     \n",
    "     cm = confusion_matrix(y_pred= y_pred, y_true= y_test)\n",
    "     g = sns.heatmap(cm, annot=True, cbar = False, fmt = 'g', cmap ='Blues')\n",
    "     g.set_yticklabels(['Actual 0', 'Actual 1'])\n",
    "     g.set_xticklabels(['Predicted 0', 'Predicted 1'])\n",
    "\n",
    "\n",
    "y_pred = best_nb.predict(X_test)\n",
    "measure_metrics(best_nb, y_pred, y_test)"
   ]
  },
  {
   "cell_type": "markdown",
   "metadata": {},
   "source": [
    "#### Try linear regression"
   ]
  },
  {
   "cell_type": "code",
   "execution_count": 109,
   "metadata": {},
   "outputs": [
    {
     "name": "stderr",
     "output_type": "stream",
     "text": [
      "C:\\Users\\ROG\\anaconda3\\envs\\ML_envi\\lib\\site-packages\\sklearn\\model_selection\\_search.py:922: UserWarning: One or more of the test scores are non-finite: [0.34140577        nan        nan        nan        nan        nan\n",
      " 0.32590624        nan 0.35198366 0.32527657 0.34125336        nan\n",
      "        nan        nan 0.35308498        nan        nan        nan\n",
      " 0.34765256        nan        nan 0.33230403        nan 0.29835794\n",
      " 0.29443236        nan 0.34106898        nan        nan 0.29786639\n",
      "        nan        nan        nan        nan        nan 0.35306399\n",
      "        nan        nan        nan        nan 0.31305247        nan\n",
      " 0.34362705        nan        nan        nan        nan        nan\n",
      "        nan 0.34201365        nan        nan        nan        nan\n",
      " 0.35244612        nan        nan        nan        nan        nan\n",
      " 0.33832992 0.3433869  0.32775773        nan 0.3515861         nan\n",
      " 0.35128677        nan 0.35194656 0.28605456        nan        nan\n",
      " 0.34578427 0.3250297  0.34449217        nan 0.32775773 0.33934039\n",
      "        nan        nan        nan 0.3500509         nan        nan\n",
      "        nan 0.29767252 0.34269805        nan 0.32610279        nan\n",
      " 0.35261           nan        nan        nan 0.33695031        nan\n",
      "        nan 0.32992086 0.30987881        nan]\n",
      "  warnings.warn(\n"
     ]
    },
    {
     "name": "stdout",
     "output_type": "stream",
     "text": [
      "Model fitting_time:  75.52191948890686\n"
     ]
    }
   ],
   "source": [
    "from sklearn.linear_model import LogisticRegression\n",
    "\n",
    "lr_pipeline = Pipeline([('tfidf', TfidfVectorizer(analyzer= 'word', stop_words='english')),\n",
    "                        ('lr_clf', LogisticRegression())])\n",
    "\n",
    "lr_params = {\n",
    "    'tfidf__strip_accents': ['ascii','unicode',None],\n",
    "    'tfidf__ngram_range' : [(1,2), (1,3)],\n",
    "    'tfidf__max_df': (0.5, .75 , 1.0),\n",
    "    'lr_clf__penalty':  ('l1','l2','elasticnet'),\n",
    "    'lr_clf__C': np.arange(0.1, 100.1, .1),\n",
    "    'lr_clf__class_weight': ['balanced', {0:1,1:2}, {0:1, 1:3}]\n",
    "}\n",
    "\n",
    "\n",
    "lr_grid = RandomizedSearchCV(lr_pipeline, param_distributions= lr_params, scoring='f1',  n_iter = 100, cv = 3, verbose=0, random_state=42, n_jobs = -1)\n",
    "start = time()\n",
    "lr_grid.fit(X_train, y_train)\n",
    "end = time()\n",
    "print('Model fitting_time: ', end - start)\n"
   ]
  },
  {
   "cell_type": "code",
   "execution_count": 110,
   "metadata": {},
   "outputs": [
    {
     "name": "stdout",
     "output_type": "stream",
     "text": [
      "Best F1 Score 0.353084978547853\n",
      "Vocabulary size:  65570\n"
     ]
    },
    {
     "data": {
      "text/plain": [
       "Pipeline(steps=[('tfidf',\n",
       "                 TfidfVectorizer(max_df=0.5, ngram_range=(1, 2),\n",
       "                                 stop_words='english')),\n",
       "                ('lr_clf',\n",
       "                 LogisticRegression(C=40.1, class_weight='balanced'))])"
      ]
     },
     "execution_count": 110,
     "metadata": {},
     "output_type": "execute_result"
    }
   ],
   "source": [
    "# best estimator\n",
    "best_lr = lr_grid.best_estimator_\n",
    "print('Best F1 Score', lr_grid.best_score_)\n",
    "print('Vocabulary size: ', best_lr['tfidf'].transform(X_train).shape[1])\n",
    "best_lr"
   ]
  },
  {
   "cell_type": "code",
   "execution_count": 111,
   "metadata": {},
   "outputs": [
    {
     "name": "stdout",
     "output_type": "stream",
     "text": [
      "              precision    recall  f1-score   support\n",
      "\n",
      "           0       0.81      0.87      0.84      1188\n",
      "           1       0.45      0.34      0.38       360\n",
      "\n",
      "    accuracy                           0.75      1548\n",
      "   macro avg       0.63      0.61      0.61      1548\n",
      "weighted avg       0.73      0.75      0.74      1548\n",
      "\n",
      "AUC train:1.0\n",
      "AUC test :0.7025\n",
      "\n",
      "Logloss 8.70170822533886\n",
      "****************************************************************************************************\n",
      "Confusion matrix\n"
     ]
    },
    {
     "data": {
      "image/png": "[encoded data removed]",
      "text/plain": [
       "<Figure size 432x288 with 1 Axes>"
      ]
     },
     "metadata": {
      "needs_background": "light"
     },
     "output_type": "display_data"
    }
   ],
   "source": [
    "y_pred = best_lr.predict(X_test)\n",
    "measure_metrics(best_lr, y_pred, y_test)"
   ]
  },
  {
   "cell_type": "markdown",
   "metadata": {},
   "source": [
    "#### Manual fitting of LR"
   ]
  },
  {
   "cell_type": "code",
   "execution_count": 112,
   "metadata": {},
   "outputs": [
    {
     "name": "stdout",
     "output_type": "stream",
     "text": [
      "Model fitting time: -1.7314369678497314\n",
      "Top 3 inverse of regularization (C) with the highest F1 Scores\n"
     ]
    },
    {
     "data": {
      "text/html": [
       "<div>\n",
       "<style scoped>\n",
       "    .dataframe tbody tr th:only-of-type {\n",
       "        vertical-align: middle;\n",
       "    }\n",
       "\n",
       "    .dataframe tbody tr th {\n",
       "        vertical-align: top;\n",
       "    }\n",
       "\n",
       "    .dataframe thead th {\n",
       "        text-align: right;\n",
       "    }\n",
       "</style>\n",
       "<table border=\"1\" class=\"dataframe\">\n",
       "  <thead>\n",
       "    <tr style=\"text-align: right;\">\n",
       "      <th></th>\n",
       "      <th>Score</th>\n",
       "      <th>C</th>\n",
       "    </tr>\n",
       "  </thead>\n",
       "  <tbody>\n",
       "    <tr>\n",
       "      <th>500</th>\n",
       "      <td>0.73833</td>\n",
       "      <td>50.1</td>\n",
       "    </tr>\n",
       "    <tr>\n",
       "      <th>518</th>\n",
       "      <td>0.73833</td>\n",
       "      <td>51.9</td>\n",
       "    </tr>\n",
       "    <tr>\n",
       "      <th>516</th>\n",
       "      <td>0.73833</td>\n",
       "      <td>51.7</td>\n",
       "    </tr>\n",
       "  </tbody>\n",
       "</table>\n",
       "</div>"
      ],
      "text/plain": [
       "       Score     C\n",
       "500  0.73833  50.1\n",
       "518  0.73833  51.9\n",
       "516  0.73833  51.7"
      ]
     },
     "execution_count": 112,
     "metadata": {},
     "output_type": "execute_result"
    }
   ],
   "source": [
    "tfidf_vectorizer = TfidfVectorizer(analyzer='word', ngram_range=(1,2), stop_words='english')\n",
    "tfidf_vectorizer = tfidf_vectorizer.fit(X_train)\n",
    "X_train_trans = tfidf_vectorizer.transform(X_train)\n",
    "X_test_trans = tfidf_vectorizer.transform(X_test)\n",
    "\n",
    "# Fit several KNN model by varying k\n",
    "Cs = []\n",
    "scores = []\n",
    "\n",
    "\n",
    "start = time()\n",
    "# use low C to for plotting\n",
    "for C in np.arange(0.1, 100.1, .1):\n",
    "    lr_clf = LogisticRegression(C = C, solver='liblinear', multi_class=\"auto\")\n",
    "    lr_clf = lr_clf.fit(X_train_trans, y_train)\n",
    "\n",
    "    # predictions\n",
    "    y_pred = lr_clf.predict(X_test_trans)\n",
    "    score = f1_score(y_true= y_test, y_pred= y_pred, average= 'weighted') \n",
    "    Cs.append(C)\n",
    "    scores.append(score)\n",
    "print('Model fitting time:', end - start)\n",
    "\n",
    "# create dataframe from results\n",
    "LR_df = pd.DataFrame({\n",
    "    'Score':scores,\n",
    "    'C':Cs,\n",
    "})\n",
    "\n",
    "print('Top 3 inverse of regularization (C) with the highest F1 Scores')\n",
    "LR_df.sort_values(by = 'Score', ascending = False).head(3)"
   ]
  },
  {
   "cell_type": "code",
   "execution_count": 113,
   "metadata": {},
   "outputs": [
    {
     "data": {
      "text/plain": [
       "<matplotlib.legend.Legend at 0x20751f6e1f0>"
      ]
     },
     "execution_count": 113,
     "metadata": {},
     "output_type": "execute_result"
    },
    {
     "data": {
      "image/png": "[encoded data removed]",
      "text/plain": [
       "<Figure size 720x432 with 1 Axes>"
      ]
     },
     "metadata": {
      "needs_background": "light"
     },
     "output_type": "display_data"
    }
   ],
   "source": [
    "plt.figure(figsize = (10,6))\n",
    "plt.plot(LR_df['C'], LR_df['Score'])\n",
    "plt.suptitle('Logistic regression model F1 scores vs inverse regularization (C) values')\n",
    "plt.title(f'Max F1 Score {np.round(LR_df[\"Score\"].max(), 3)}')\n",
    "plt.ylabel('F1 Score')\n",
    "plt.xlabel('alpha')\n",
    "for highest_index in np.where(LR_df['Score'] == LR_df['Score'].max())[0]:\n",
    "    plt.axvline(LR_df.loc[highest_index, 'C'], color = 'red', alpha = .3, linestyle = '--')\n",
    "\n",
    "plt.legend(('F1 Score','Max Value'))"
   ]
  },
  {
   "cell_type": "code",
   "execution_count": 114,
   "metadata": {},
   "outputs": [
    {
     "name": "stdout",
     "output_type": "stream",
     "text": [
      "              precision    recall  f1-score   support\n",
      "\n",
      "           0       0.80      0.93      0.86      1188\n",
      "           1       0.51      0.25      0.34       360\n",
      "\n",
      "    accuracy                           0.77      1548\n",
      "   macro avg       0.66      0.59      0.60      1548\n",
      "weighted avg       0.73      0.77      0.74      1548\n",
      "\n",
      "AUC train:1.0\n",
      "AUC test :0.7025\n",
      "\n",
      "Logloss 7.965382905658618\n",
      "****************************************************************************************************\n",
      "Confusion matrix\n"
     ]
    },
    {
     "data": {
      "image/png": "[encoded data removed]",
      "text/plain": [
       "<Figure size 432x288 with 1 Axes>"
      ]
     },
     "metadata": {
      "needs_background": "light"
     },
     "output_type": "display_data"
    }
   ],
   "source": [
    "## best LR model\n",
    "best_manual_LR_clf = LogisticRegression(C = 50.1, solver='liblinear', multi_class=\"auto\")\n",
    "best_manual_LR_clf.fit(X_train_trans, y_train)\n",
    "y_pred = best_manual_LR_clf.predict(X_test_trans)\n",
    "\n",
    "measure_metrics(best_manual_LR_clf, y_pred, y_test, X_train= X_train_trans, X_test= X_test_trans)"
   ]
  },
  {
   "cell_type": "markdown",
   "metadata": {},
   "source": [
    "LR from random search has better f1 score, whereas manual LR has better precision but very low recall."
   ]
  },
  {
   "cell_type": "markdown",
   "metadata": {},
   "source": [
    "#### Plot top features"
   ]
  },
  {
   "cell_type": "code",
   "execution_count": 115,
   "metadata": {},
   "outputs": [],
   "source": [
    "coefficients_manual = pd.DataFrame({\"keywords\":tfidf_vectorizer.get_feature_names(),\n",
    "                             \"coef\":best_manual_LR_clf.coef_[0]})\n",
    "coefficients_random_cv = pd.DataFrame({\"keywords\":best_lr['tfidf'].get_feature_names(),\n",
    "                             \"coef\": best_lr['lr_clf'].coef_[0]})"
   ]
  },
  {
   "cell_type": "code",
   "execution_count": 116,
   "metadata": {},
   "outputs": [],
   "source": [
    "def plot_lr_coef(df, title = 'Top weighted_keywords', pos_adjust = .3, neg_adjust = 1.5, xlim = (-10,10)):\n",
    "    worse_coef = df.sort_values(by = 'coef', ascending = False).head(20)\n",
    "    best_coef = df.sort_values(by = 'coef',  ascending = False).tail(20)\n",
    "    for_plotting =  pd.concat([worse_coef, best_coef]).drop_duplicates(subset = 'coef')\n",
    "\n",
    "    def plot(temp_table):\n",
    "        if temp_table['coef'].values < 0:\n",
    "            plt.text( temp_table['coef'].values - neg_adjust ,i , temp_table['keywords'].values[0])\n",
    "        else:\n",
    "            plt.text(temp_table['coef'].values + pos_adjust ,i , temp_table['keywords'].values[0])\n",
    "\n",
    "    with sns.axes_style({\n",
    "    'xtick.bottom': False,\n",
    "    'xtick.top': False,\n",
    "    'ytick.left': False,\n",
    "    'ytick.right': False,\n",
    "    'axes.spines.left': False,\n",
    "    'axes.spines.bottom': False,\n",
    "    'axes.spines.right': False,\n",
    "    'axes.spines.top': False\n",
    "    }):\n",
    "        plt.figure(figsize = (12,12))\n",
    "        plt.title(title, fontsize = 20)\n",
    "        ax = sns.barplot(x='coef', y='keywords', data=for_plotting, palette='RdYlBu_r', edgecolor='black')\n",
    "        ax.set_xlabel('Coefficients')\n",
    "        ax.set_ylabel('')\n",
    "        ax.set_xlim(xlim)\n",
    "        ax.set_yticks([])\n",
    "        for i, name in enumerate(for_plotting.keywords): \n",
    "            temp_table = for_plotting[for_plotting['keywords'] == name]\n",
    "            plot(temp_table)\n"
   ]
  },
  {
   "cell_type": "code",
   "execution_count": 117,
   "metadata": {},
   "outputs": [
    {
     "data": {
      "image/png": "[encoded data removed]",
      "text/plain": [
       "<Figure size 864x864 with 1 Axes>"
      ]
     },
     "metadata": {
      "needs_background": "light"
     },
     "output_type": "display_data"
    }
   ],
   "source": [
    "plot_lr_coef(coefficients_random_cv, title = 'Logistic regression highest weighted words', xlim = (-9, 9))"
   ]
  },
  {
   "cell_type": "markdown",
   "metadata": {},
   "source": [
    "#### SGD Classifier"
   ]
  },
  {
   "cell_type": "code",
   "execution_count": 118,
   "metadata": {},
   "outputs": [
    {
     "name": "stdout",
     "output_type": "stream",
     "text": [
      "Model fitting_time:  43.42847418785095\n"
     ]
    },
    {
     "name": "stderr",
     "output_type": "stream",
     "text": [
      "C:\\Users\\ROG\\anaconda3\\envs\\ML_envi\\lib\\site-packages\\sklearn\\linear_model\\_stochastic_gradient.py:574: ConvergenceWarning: Maximum number of iteration reached before convergence. Consider increasing max_iter to improve the fit.\n",
      "  warnings.warn(\"Maximum number of iteration reached before \"\n"
     ]
    }
   ],
   "source": [
    "from sklearn.linear_model import SGDClassifier\n",
    "\n",
    "sgd_pipeline = Pipeline([('tfidf', TfidfVectorizer(analyzer= 'word', stop_words='english')),\n",
    "                        ('sgd_clf', SGDClassifier(loss = 'hinge', random_state= 1234))])\n",
    "\n",
    "sgd_params = {\n",
    "    'tfidf__strip_accents': ['ascii','unicode',None],\n",
    "    'tfidf__ngram_range' : [(1,2), (1,3)],\n",
    "    'tfidf__max_df': (0.5, .75 , 1.0),\n",
    "    'sgd_clf__alpha': (1.0000000000000001e-05, 9.9999999999999995e-07),\n",
    "    'sgd_clf__max_iter': (10, 50, 80),\n",
    "    'sgd_clf__penalty': ('l2', 'elasticnet'),\n",
    "}\n",
    "\n",
    "\n",
    "sgd_grid = RandomizedSearchCV(sgd_pipeline, param_distributions= sgd_params, scoring='f1',  n_iter = 100, cv = 3, verbose=0, random_state=42, n_jobs = -1)\n",
    "start = time()\n",
    "sgd_grid.fit(X_train, y_train)\n",
    "end = time()\n",
    "print('Model fitting_time: ', end - start)\n"
   ]
  },
  {
   "cell_type": "code",
   "execution_count": 119,
   "metadata": {},
   "outputs": [
    {
     "name": "stdout",
     "output_type": "stream",
     "text": [
      "Best F1 Score 0.3401543795061825\n",
      "Vocabulary size:  65479\n"
     ]
    },
    {
     "data": {
      "text/plain": [
       "Pipeline(steps=[('tfidf',\n",
       "                 TfidfVectorizer(ngram_range=(1, 2), stop_words='english',\n",
       "                                 strip_accents='unicode')),\n",
       "                ('sgd_clf',\n",
       "                 SGDClassifier(alpha=1e-06, max_iter=10, penalty='elasticnet',\n",
       "                               random_state=1234))])"
      ]
     },
     "execution_count": 119,
     "metadata": {},
     "output_type": "execute_result"
    }
   ],
   "source": [
    "# best estimator\n",
    "best_sgd = sgd_grid.best_estimator_\n",
    "print('Best F1 Score', sgd_grid.best_score_)\n",
    "print('Vocabulary size: ', best_sgd['tfidf'].transform(X_train).shape[1])\n",
    "best_sgd"
   ]
  },
  {
   "cell_type": "code",
   "execution_count": 120,
   "metadata": {},
   "outputs": [
    {
     "data": {
      "text/plain": [
       "array([-4.50465001, -6.13478333,  6.89489225, ..., -5.86349991,\n",
       "        6.96950047, -6.41379335])"
      ]
     },
     "execution_count": 120,
     "metadata": {},
     "output_type": "execute_result"
    }
   ],
   "source": [
    "from sklearn.metrics import roc_auc_score\n",
    "# not sure if comparable with other AUC\n",
    "best_sgd.decision_function(X_train)"
   ]
  },
  {
   "cell_type": "code",
   "execution_count": 121,
   "metadata": {},
   "outputs": [
    {
     "name": "stdout",
     "output_type": "stream",
     "text": [
      "              precision    recall  f1-score   support\n",
      "\n",
      "           0       0.81      0.89      0.85      1188\n",
      "           1       0.45      0.30      0.36       360\n",
      "\n",
      "    accuracy                           0.75      1548\n",
      "   macro avg       0.63      0.59      0.60      1548\n",
      "weighted avg       0.72      0.75      0.73      1548\n",
      "\n",
      "Logloss 8.545514280693892\n",
      "****************************************************************************************************\n",
      "Confusion matrix\n"
     ]
    },
    {
     "data": {
      "text/plain": [
       "[Text(0.5, 0, 'Predicted 0'), Text(1.5, 0, 'Predicted 1')]"
      ]
     },
     "execution_count": 121,
     "metadata": {},
     "output_type": "execute_result"
    },
    {
     "data": {
      "image/png": "[encoded data removed]",
      "text/plain": [
       "<Figure size 432x288 with 1 Axes>"
      ]
     },
     "metadata": {
      "needs_background": "light"
     },
     "output_type": "display_data"
    }
   ],
   "source": [
    "# predict\n",
    "# manual since it does not predict probability\n",
    "y_pred = best_sgd.predict(X_test)\n",
    "print(classification_report(y_pred= y_pred, y_true= y_test))\n",
    "print('Logloss', log_loss(y_pred= y_pred, y_true= y_test))\n",
    "print('*' * 100)\n",
    "print('Confusion matrix')     \n",
    "cm = confusion_matrix(y_pred= y_pred, y_true= y_test)\n",
    "g = sns.heatmap(cm, annot=True, cbar = False, fmt = 'g', cmap ='Blues')\n",
    "g.set_yticklabels(['Actual 0', 'Actual 1'])\n",
    "g.set_xticklabels(['Predicted 0', 'Predicted 1'])"
   ]
  },
  {
   "cell_type": "markdown",
   "metadata": {},
   "source": [
    "Similar performance with LR"
   ]
  },
  {
   "cell_type": "code",
   "execution_count": 122,
   "metadata": {},
   "outputs": [
    {
     "data": {
      "image/png": "[encoded data removed]",
      "text/plain": [
       "<Figure size 864x864 with 1 Axes>"
      ]
     },
     "metadata": {
      "needs_background": "light"
     },
     "output_type": "display_data"
    }
   ],
   "source": [
    "coefficients_sgd = pd.DataFrame({\"keywords\":best_sgd['tfidf'].get_feature_names(),\n",
    "                             \"coef\": best_sgd['sgd_clf'].coef_[0]})\n",
    "\n",
    "plot_lr_coef(coefficients_sgd, title='SGD highest weighted words', xlim=(-20, 20), neg_adjust= 4)"
   ]
  },
  {
   "cell_type": "markdown",
   "metadata": {},
   "source": [
    "#### manually search plot for keywords"
   ]
  },
  {
   "cell_type": "code",
   "execution_count": 136,
   "metadata": {},
   "outputs": [
    {
     "name": "stdout",
     "output_type": "stream",
     "text": [
      "Movie keyword with word 18\n",
      "Percent high rated movies:  0.0\n",
      "\n",
      "\n",
      "****************************************************************************************************\n",
      "A detective from Hong Kong teams up with an American gambler to battle against a notorious Chinese criminal.\n"
     ]
    }
   ],
   "source": [
    "def find_movie(word, col = 'overview', sample = 1):\n",
    "\n",
    "    with_word = movie_models[movie_models['text_feature'].str.contains(word)]\n",
    "    num_movies = len(with_word)\n",
    "    with_word = with_word.sample(sample)\n",
    "    \n",
    "    print(f'Movie keyword with word {num_movies}')\n",
    "    print(f'Percent high rated movies: ', with_word['weighted_rating'].mean())\n",
    "    print('\\n')\n",
    "\n",
    "    for search in movie_keywords[movie_keywords.index.isin(with_word.index)][col]:\n",
    "        print('*'* 100)\n",
    "        print(search)\n",
    "\n",
    "\n",
    "find_movie('chinese')"
   ]
  },
  {
   "cell_type": "code",
   "execution_count": 143,
   "metadata": {},
   "outputs": [
    {
     "name": "stdout",
     "output_type": "stream",
     "text": [
      "Number of movies:  7\n",
      "Percent high rated movies:  1.0\n"
     ]
    },
    {
     "data": {
      "text/html": [
       "<div>\n",
       "<style scoped>\n",
       "    .dataframe tbody tr th:only-of-type {\n",
       "        vertical-align: middle;\n",
       "    }\n",
       "\n",
       "    .dataframe tbody tr th {\n",
       "        vertical-align: top;\n",
       "    }\n",
       "\n",
       "    .dataframe thead th {\n",
       "        text-align: right;\n",
       "    }\n",
       "</style>\n",
       "<table border=\"1\" class=\"dataframe\">\n",
       "  <thead>\n",
       "    <tr style=\"text-align: right;\">\n",
       "      <th></th>\n",
       "      <th>text_feature</th>\n",
       "      <th>weighted_rating</th>\n",
       "    </tr>\n",
       "  </thead>\n",
       "  <tbody>\n",
       "    <tr>\n",
       "      <th>844</th>\n",
       "      <td>Hayao Miyazaki Sumi Shimamoto Mahito Tsujimur...</td>\n",
       "      <td>1</td>\n",
       "    </tr>\n",
       "    <tr>\n",
       "      <th>1188</th>\n",
       "      <td>Hayao Miyazaki Kirsten Dunst Minami Takayama ...</td>\n",
       "      <td>1</td>\n",
       "    </tr>\n",
       "    <tr>\n",
       "      <th>1957</th>\n",
       "      <td>Hayao Miyazaki Yôji Matsuda Yuriko Ishida Yûk...</td>\n",
       "      <td>1</td>\n",
       "    </tr>\n",
       "    <tr>\n",
       "      <th>2575</th>\n",
       "      <td>Hayao Miyazaki Daveigh Chase Suzanne Pleshett...</td>\n",
       "      <td>1</td>\n",
       "    </tr>\n",
       "    <tr>\n",
       "      <th>3053</th>\n",
       "      <td>Hayao Miyazaki Chieko Baishô Takuya Kimura Ta...</td>\n",
       "      <td>1</td>\n",
       "    </tr>\n",
       "    <tr>\n",
       "      <th>4065</th>\n",
       "      <td>Hayao Miyazaki Cate Blanchett Matt Damon Liam...</td>\n",
       "      <td>1</td>\n",
       "    </tr>\n",
       "    <tr>\n",
       "      <th>5416</th>\n",
       "      <td>Hayao Miyazaki Hideaki Anno Hidetoshi Nishiji...</td>\n",
       "      <td>1</td>\n",
       "    </tr>\n",
       "  </tbody>\n",
       "</table>\n",
       "</div>"
      ],
      "text/plain": [
       "                                           text_feature  weighted_rating\n",
       "844    Hayao Miyazaki Sumi Shimamoto Mahito Tsujimur...                1\n",
       "1188   Hayao Miyazaki Kirsten Dunst Minami Takayama ...                1\n",
       "1957   Hayao Miyazaki Yôji Matsuda Yuriko Ishida Yûk...                1\n",
       "2575   Hayao Miyazaki Daveigh Chase Suzanne Pleshett...                1\n",
       "3053   Hayao Miyazaki Chieko Baishô Takuya Kimura Ta...                1\n",
       "4065   Hayao Miyazaki Cate Blanchett Matt Damon Liam...                1\n",
       "5416   Hayao Miyazaki Hideaki Anno Hidetoshi Nishiji...                1"
      ]
     },
     "metadata": {},
     "output_type": "display_data"
    }
   ],
   "source": [
    "def find_feature(keyword):\n",
    "    with_word = movie_models[movie_models['text_feature'].str.contains(keyword)]\n",
    "    print('Number of movies: ', len(with_word))\n",
    "    print(f'Percent high rated movies: ', with_word['weighted_rating'].mean())\n",
    "    display(with_word)\n",
    "\n",
    "find_feature('Hayao')"
   ]
  },
  {
   "cell_type": "markdown",
   "metadata": {},
   "source": [
    "## Plots"
   ]
  },
  {
   "cell_type": "code",
   "execution_count": 124,
   "metadata": {},
   "outputs": [],
   "source": [
    "def subplot_lr_coef(df, title = 'Top weighted_keywords', pos_adjust = .3, neg_adjust = 1.5, xlim = (-10,10)):\n",
    "    worse_coef = df.sort_values(by = 'coef', ascending = False).head(20)\n",
    "    best_coef = df.sort_values(by = 'coef',  ascending = False).tail(20)\n",
    "    for_plotting =  pd.concat([worse_coef, best_coef]).drop_duplicates(subset = 'coef')\n",
    "\n",
    "    def plot(temp_table):\n",
    "        if temp_table['coef'].values < 0:\n",
    "            plt.text( temp_table['coef'].values - neg_adjust ,i , temp_table['keywords'].values[0])\n",
    "        else:\n",
    "            plt.text(temp_table['coef'].values + pos_adjust ,i , temp_table['keywords'].values[0])\n",
    "\n",
    "    with sns.axes_style({\n",
    "    'xtick.bottom': False,\n",
    "    'xtick.top': False,\n",
    "    'ytick.left': False,\n",
    "    'ytick.right': False,\n",
    "    'axes.spines.left': False,\n",
    "    'axes.spines.bottom': False,\n",
    "    'axes.spines.right': False,\n",
    "    'axes.spines.top': False\n",
    "    }):\n",
    "        plt.title(title, fontsize = 20)\n",
    "        ax = sns.barplot(x='coef', y='keywords', data=for_plotting, palette='RdYlBu_r', edgecolor='black')\n",
    "        ax.set_xlabel('Coefficients')\n",
    "        ax.set_ylabel('')\n",
    "        ax.set_xlim(xlim)\n",
    "        ax.set_yticks([])\n",
    "        for i, name in enumerate(for_plotting.keywords): \n",
    "            temp_table = for_plotting[for_plotting['keywords'] == name]\n",
    "            plot(temp_table)\n"
   ]
  },
  {
   "cell_type": "code",
   "execution_count": 125,
   "metadata": {},
   "outputs": [
    {
     "data": {
      "image/png": "[encoded data removed]",
      "text/plain": [
       "<Figure size 1080x1080 with 2 Axes>"
      ]
     },
     "metadata": {
      "needs_background": "light"
     },
     "output_type": "display_data"
    }
   ],
   "source": [
    "with sns.axes_style({\n",
    "'xtick.bottom': True,\n",
    " 'xtick.top': False,\n",
    " 'ytick.left': True,\n",
    " 'ytick.right': False,\n",
    " 'axes.spines.left': True,\n",
    " 'axes.spines.bottom': True,\n",
    " 'axes.spines.right': False,\n",
    " 'axes.spines.top': False\n",
    "}):\n",
    "        \n",
    "    plt.figure(figsize = (15,15))\n",
    "    plt.subplot(1,2,1)\n",
    "    subplot_lr_coef(coefficients_random_cv, title = 'LR highest weighted words', xlim = (-10, 10), neg_adjust= 3)\n",
    "\n",
    "    plt.subplot(1,2,2)\n",
    "    subplot_lr_coef(coefficients_sgd, title='SGD highest weighted words', xlim=(-22, 22), neg_adjust= 5)"
   ]
  },
  {
   "cell_type": "code",
   "execution_count": null,
   "metadata": {},
   "outputs": [],
   "source": []
  }
 ],
 "metadata": {
  "interpreter": {
   "hash": "e27bd88ca7cb4ab501a53f847c76f2d298208edfb9daf59b32f00af5bd4528cb"
  },
  "kernelspec": {
   "display_name": "Python 3.8.11 ('ML_envi')",
   "language": "python",
   "name": "python3"
  },
  "language_info": {
   "codemirror_mode": {
    "name": "ipython",
    "version": 3
   },
   "file_extension": ".py",
   "mimetype": "text/x-python",
   "name": "python",
   "nbconvert_exporter": "python",
   "pygments_lexer": "ipython3",
   "version": "3.8.11"
  },
  "orig_nbformat": 4
 },
 "nbformat": 4,
 "nbformat_minor": 2
}
