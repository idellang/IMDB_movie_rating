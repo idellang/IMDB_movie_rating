{
 "cells": [
  {
   "cell_type": "code",
   "execution_count": 1,
   "metadata": {},
   "outputs": [],
   "source": [
    "# import standard libraries\n",
    "import pandas as pd \n",
    "import numpy as np \n",
    "import matplotlib.pyplot as plt \n",
    "import seaborn as sns \n",
    "\n",
    "%matplotlib inline"
   ]
  },
  {
   "cell_type": "code",
   "execution_count": 2,
   "metadata": {},
   "outputs": [
    {
     "name": "stderr",
     "output_type": "stream",
     "text": [
      "C:\\Users\\ROG\\anaconda3\\envs\\ML_envi\\lib\\site-packages\\IPython\\core\\interactiveshell.py:3441: DtypeWarning: Columns (7) have mixed types.Specify dtype option on import or set low_memory=False.\n",
      "  exec(code_obj, self.user_global_ns, self.user_ns)\n"
     ]
    }
   ],
   "source": [
    "title_basics = pd.read_table('files/tsv_files/title_basics.tsv', sep = '\\t', na_values= ['\\\\N'])"
   ]
  },
  {
   "cell_type": "code",
   "execution_count": 3,
   "metadata": {},
   "outputs": [],
   "source": [
    "# filter only movie titles\n",
    "movie_titles = title_basics[title_basics['titleType'].isin(['tvMovie','movie'])]"
   ]
  },
  {
   "cell_type": "code",
   "execution_count": 4,
   "metadata": {},
   "outputs": [],
   "source": [
    "# remove adult titles\n",
    "movie_titles = movie_titles[movie_titles['isAdult'] == 0]\n",
    "# remove end year as this is not needed.\n",
    "movie_titles = movie_titles.drop(columns=['isAdult','endYear'])"
   ]
  },
  {
   "cell_type": "code",
   "execution_count": 5,
   "metadata": {},
   "outputs": [],
   "source": [
    "# load ratings data\n",
    "title_ratings = pd.read_table('files/tsv_files/title_ratings.tsv', na_values= ['\\\\N'])"
   ]
  },
  {
   "cell_type": "code",
   "execution_count": 6,
   "metadata": {},
   "outputs": [],
   "source": [
    "# merge with ratings\n",
    "movie_titles = movie_titles.merge(title_ratings, how = 'left', on = 'tconst')"
   ]
  },
  {
   "cell_type": "code",
   "execution_count": 7,
   "metadata": {},
   "outputs": [
    {
     "data": {
      "text/plain": [
       "(56890, 9)"
      ]
     },
     "execution_count": 7,
     "metadata": {},
     "output_type": "execute_result"
    }
   ],
   "source": [
    "# get those with at least 5000 votes\n",
    "movie_titles_short = movie_titles[movie_titles['numVotes'] > 500]\n",
    "movie_titles_short.shape"
   ]
  },
  {
   "cell_type": "code",
   "execution_count": 8,
   "metadata": {},
   "outputs": [
    {
     "name": "stderr",
     "output_type": "stream",
     "text": [
      "C:\\Users\\ROG\\anaconda3\\envs\\ML_envi\\lib\\site-packages\\pandas\\util\\_decorators.py:311: SettingWithCopyWarning: \n",
      "A value is trying to be set on a copy of a slice from a DataFrame\n",
      "\n",
      "See the caveats in the documentation: https://pandas.pydata.org/pandas-docs/stable/user_guide/indexing.html#returning-a-view-versus-a-copy\n",
      "  return func(*args, **kwargs)\n"
     ]
    }
   ],
   "source": [
    "# drop those without run time minutes\n",
    "movie_titles_short.dropna(inplace = True)"
   ]
  },
  {
   "cell_type": "markdown",
   "metadata": {},
   "source": [
    "### Check aggregated data"
   ]
  },
  {
   "cell_type": "code",
   "execution_count": 9,
   "metadata": {},
   "outputs": [],
   "source": [
    "name_basics = pd.read_table('files/tsv_files/name_basics.tsv', na_values= ['\\\\N'])\n",
    "title_crew = pd.read_table('files/tsv_files/title_crew.tsv', na_values= ['\\\\N'])\n",
    "title_principals = pd.read_table('files/tsv_files/title_principals.tsv', na_values= ['\\\\N'])"
   ]
  },
  {
   "cell_type": "code",
   "execution_count": 10,
   "metadata": {},
   "outputs": [],
   "source": [
    "# select actors|actresses\n",
    "title_principals = title_principals[title_principals['category'].isin(['actor','actress'])]"
   ]
  },
  {
   "cell_type": "markdown",
   "metadata": {},
   "source": [
    "#### Directors"
   ]
  },
  {
   "cell_type": "code",
   "execution_count": 11,
   "metadata": {},
   "outputs": [],
   "source": [
    "movie_directors = title_crew[title_crew['tconst'].isin(movie_titles_short['tconst'])]\n",
    "movie_directors = movie_directors[movie_directors['directors'].notnull()]"
   ]
  },
  {
   "cell_type": "code",
   "execution_count": 12,
   "metadata": {},
   "outputs": [],
   "source": [
    "# move into separate rows and join with name\n",
    "movie_directors['directors_list'] = movie_directors['directors'].apply(lambda x: x.split(','))\n",
    "movie_directors = movie_directors.explode('directors_list').merge(name_basics[['nconst','primaryName']], how = 'left', left_on = 'directors_list', right_on = 'nconst')"
   ]
  },
  {
   "cell_type": "code",
   "execution_count": 13,
   "metadata": {},
   "outputs": [
    {
     "data": {
      "text/html": [
       "<div>\n",
       "<style scoped>\n",
       "    .dataframe tbody tr th:only-of-type {\n",
       "        vertical-align: middle;\n",
       "    }\n",
       "\n",
       "    .dataframe tbody tr th {\n",
       "        vertical-align: top;\n",
       "    }\n",
       "\n",
       "    .dataframe thead th {\n",
       "        text-align: right;\n",
       "    }\n",
       "</style>\n",
       "<table border=\"1\" class=\"dataframe\">\n",
       "  <thead>\n",
       "    <tr style=\"text-align: right;\">\n",
       "      <th></th>\n",
       "      <th>Unnamed: 0</th>\n",
       "      <th>primaryName</th>\n",
       "      <th>averageRating</th>\n",
       "      <th>numVotes</th>\n",
       "      <th>tconst</th>\n",
       "      <th>weighted_rating</th>\n",
       "    </tr>\n",
       "  </thead>\n",
       "  <tbody>\n",
       "    <tr>\n",
       "      <th>0</th>\n",
       "      <td>0</td>\n",
       "      <td>A.R. Murugadoss</td>\n",
       "      <td>7.069231</td>\n",
       "      <td>16577.923077</td>\n",
       "      <td>13</td>\n",
       "      <td>6.679422</td>\n",
       "    </tr>\n",
       "    <tr>\n",
       "      <th>1</th>\n",
       "      <td>1</td>\n",
       "      <td>Aamir Khan</td>\n",
       "      <td>8.400000</td>\n",
       "      <td>185065.000000</td>\n",
       "      <td>1</td>\n",
       "      <td>7.995856</td>\n",
       "    </tr>\n",
       "    <tr>\n",
       "      <th>2</th>\n",
       "      <td>2</td>\n",
       "      <td>Aanand L. Rai</td>\n",
       "      <td>6.820000</td>\n",
       "      <td>24579.000000</td>\n",
       "      <td>5</td>\n",
       "      <td>6.614173</td>\n",
       "    </tr>\n",
       "    <tr>\n",
       "      <th>3</th>\n",
       "      <td>3</td>\n",
       "      <td>Aaron Blaise</td>\n",
       "      <td>6.900000</td>\n",
       "      <td>105730.000000</td>\n",
       "      <td>1</td>\n",
       "      <td>6.771573</td>\n",
       "    </tr>\n",
       "    <tr>\n",
       "      <th>4</th>\n",
       "      <td>4</td>\n",
       "      <td>Aaron Hann</td>\n",
       "      <td>6.000000</td>\n",
       "      <td>52611.000000</td>\n",
       "      <td>1</td>\n",
       "      <td>6.243639</td>\n",
       "    </tr>\n",
       "  </tbody>\n",
       "</table>\n",
       "</div>"
      ],
      "text/plain": [
       "   Unnamed: 0      primaryName  averageRating       numVotes  tconst  \\\n",
       "0           0  A.R. Murugadoss       7.069231   16577.923077      13   \n",
       "1           1       Aamir Khan       8.400000  185065.000000       1   \n",
       "2           2    Aanand L. Rai       6.820000   24579.000000       5   \n",
       "3           3     Aaron Blaise       6.900000  105730.000000       1   \n",
       "4           4       Aaron Hann       6.000000   52611.000000       1   \n",
       "\n",
       "   weighted_rating  \n",
       "0         6.679422  \n",
       "1         7.995856  \n",
       "2         6.614173  \n",
       "3         6.771573  \n",
       "4         6.243639  "
      ]
     },
     "execution_count": 13,
     "metadata": {},
     "output_type": "execute_result"
    }
   ],
   "source": [
    "directors = pd.read_csv('files/agg_data/directors.csv')\n",
    "directors.head()"
   ]
  },
  {
   "cell_type": "code",
   "execution_count": 14,
   "metadata": {},
   "outputs": [],
   "source": [
    "# 250k average vote and at least 2 movies\n",
    "directors['well_known'] = ((directors['numVotes'] >= 250000) & (directors['tconst'] > 2)).astype(int)\n",
    "well_known_directors = directors.loc[directors['well_known'] == 1, 'primaryName']"
   ]
  },
  {
   "cell_type": "code",
   "execution_count": 15,
   "metadata": {},
   "outputs": [],
   "source": [
    "movie_directors['has_well_known_director'] =  (movie_directors['primaryName'].isin(well_known_directors)).astype(int)"
   ]
  },
  {
   "cell_type": "code",
   "execution_count": 16,
   "metadata": {},
   "outputs": [],
   "source": [
    "# return to single movie per row\n",
    "movie_directors.drop(columns=['directors_list'], inplace = True)\n",
    "\n",
    "# combine name into list\n",
    "directors = movie_directors.groupby('tconst')['primaryName'].apply(lambda x: list(x))\n",
    "well_known = movie_directors.groupby('tconst')['has_well_known_director'].sum()\n",
    "\n",
    "# set as index\n",
    "movie_directors = movie_directors.drop_duplicates(subset='tconst').set_index('tconst')\n",
    "\n",
    "# add into column\n",
    "movie_directors['directors_name'] = directors.apply(lambda x : ','.join(x))\n",
    "movie_directors['has_well_known_director'] = well_known\n",
    "\n",
    "\n",
    "movie_directors.reset_index(inplace = True)"
   ]
  },
  {
   "cell_type": "code",
   "execution_count": 17,
   "metadata": {},
   "outputs": [],
   "source": [
    "# merge movie titles\n",
    "movie_titles_short = movie_titles_short.merge(movie_directors, how = 'left', on = 'tconst')"
   ]
  },
  {
   "cell_type": "code",
   "execution_count": 18,
   "metadata": {},
   "outputs": [],
   "source": [
    "movie_titles_short.drop(columns=['primaryName'], inplace = True)\n",
    "movie_titles_short['has_well_known_director'] = movie_titles_short['has_well_known_director'].fillna(0)"
   ]
  },
  {
   "cell_type": "code",
   "execution_count": 19,
   "metadata": {},
   "outputs": [
    {
     "data": {
      "text/html": [
       "<div>\n",
       "<style scoped>\n",
       "    .dataframe tbody tr th:only-of-type {\n",
       "        vertical-align: middle;\n",
       "    }\n",
       "\n",
       "    .dataframe tbody tr th {\n",
       "        vertical-align: top;\n",
       "    }\n",
       "\n",
       "    .dataframe thead th {\n",
       "        text-align: right;\n",
       "    }\n",
       "</style>\n",
       "<table border=\"1\" class=\"dataframe\">\n",
       "  <thead>\n",
       "    <tr style=\"text-align: right;\">\n",
       "      <th></th>\n",
       "      <th>tconst</th>\n",
       "      <th>averageRating</th>\n",
       "    </tr>\n",
       "    <tr>\n",
       "      <th>has_well_known_director</th>\n",
       "      <th></th>\n",
       "      <th></th>\n",
       "    </tr>\n",
       "  </thead>\n",
       "  <tbody>\n",
       "    <tr>\n",
       "      <th>False</th>\n",
       "      <td>9252</td>\n",
       "      <td>6.622914</td>\n",
       "    </tr>\n",
       "    <tr>\n",
       "      <th>True</th>\n",
       "      <td>563</td>\n",
       "      <td>7.208171</td>\n",
       "    </tr>\n",
       "  </tbody>\n",
       "</table>\n",
       "</div>"
      ],
      "text/plain": [
       "                         tconst  averageRating\n",
       "has_well_known_director                       \n",
       "False                      9252       6.622914\n",
       "True                        563       7.208171"
      ]
     },
     "execution_count": 19,
     "metadata": {},
     "output_type": "execute_result"
    }
   ],
   "source": [
    "# consdier movies with at least 50k votes\n",
    "movie_titles_short[movie_titles_short['numVotes'] > 10000].groupby(movie_titles_short['has_well_known_director'] > 0).agg({'tconst':'count','averageRating':'mean'})"
   ]
  },
  {
   "cell_type": "markdown",
   "metadata": {},
   "source": [
    "#### Actors"
   ]
  },
  {
   "cell_type": "code",
   "execution_count": 20,
   "metadata": {},
   "outputs": [
    {
     "name": "stderr",
     "output_type": "stream",
     "text": [
      "C:\\Users\\ROG\\anaconda3\\envs\\ML_envi\\lib\\site-packages\\pandas\\core\\frame.py:4901: SettingWithCopyWarning: \n",
      "A value is trying to be set on a copy of a slice from a DataFrame\n",
      "\n",
      "See the caveats in the documentation: https://pandas.pydata.org/pandas-docs/stable/user_guide/indexing.html#returning-a-view-versus-a-copy\n",
      "  return super().drop(\n"
     ]
    }
   ],
   "source": [
    "# must be in top 3 cast\n",
    "movie_actors =  title_principals[(title_principals['tconst'].isin(movie_titles_short['tconst'])) & (title_principals['ordering'] <= 3)]\n",
    "movie_actors.drop(columns=['job'], inplace = True)"
   ]
  },
  {
   "cell_type": "code",
   "execution_count": 21,
   "metadata": {},
   "outputs": [],
   "source": [
    "movie_actors = movie_actors.merge(name_basics[['nconst','primaryName']], how = 'left', on = 'nconst')"
   ]
  },
  {
   "cell_type": "code",
   "execution_count": 22,
   "metadata": {},
   "outputs": [
    {
     "data": {
      "text/html": [
       "<div>\n",
       "<style scoped>\n",
       "    .dataframe tbody tr th:only-of-type {\n",
       "        vertical-align: middle;\n",
       "    }\n",
       "\n",
       "    .dataframe tbody tr th {\n",
       "        vertical-align: top;\n",
       "    }\n",
       "\n",
       "    .dataframe thead th {\n",
       "        text-align: right;\n",
       "    }\n",
       "</style>\n",
       "<table border=\"1\" class=\"dataframe\">\n",
       "  <thead>\n",
       "    <tr style=\"text-align: right;\">\n",
       "      <th></th>\n",
       "      <th>Unnamed: 0</th>\n",
       "      <th>primaryName</th>\n",
       "      <th>averageRating</th>\n",
       "      <th>numVotes</th>\n",
       "      <th>tconst</th>\n",
       "      <th>well_known_actor</th>\n",
       "    </tr>\n",
       "  </thead>\n",
       "  <tbody>\n",
       "    <tr>\n",
       "      <th>0</th>\n",
       "      <td>0</td>\n",
       "      <td>'Ganja' Karuppu</td>\n",
       "      <td>8.10</td>\n",
       "      <td>1899.0</td>\n",
       "      <td>1</td>\n",
       "      <td>0</td>\n",
       "    </tr>\n",
       "    <tr>\n",
       "      <th>1</th>\n",
       "      <td>1</td>\n",
       "      <td>'Hurricane Ryu' Hariken</td>\n",
       "      <td>5.95</td>\n",
       "      <td>697.0</td>\n",
       "      <td>2</td>\n",
       "      <td>0</td>\n",
       "    </tr>\n",
       "    <tr>\n",
       "      <th>2</th>\n",
       "      <td>2</td>\n",
       "      <td>'Lee' George Quinones</td>\n",
       "      <td>7.10</td>\n",
       "      <td>2588.0</td>\n",
       "      <td>1</td>\n",
       "      <td>0</td>\n",
       "    </tr>\n",
       "    <tr>\n",
       "      <th>3</th>\n",
       "      <td>3</td>\n",
       "      <td>'Little Billy' Rhodes</td>\n",
       "      <td>3.90</td>\n",
       "      <td>1749.0</td>\n",
       "      <td>1</td>\n",
       "      <td>0</td>\n",
       "    </tr>\n",
       "    <tr>\n",
       "      <th>4</th>\n",
       "      <td>4</td>\n",
       "      <td>'Spring' Mark Adley</td>\n",
       "      <td>6.60</td>\n",
       "      <td>1279.0</td>\n",
       "      <td>1</td>\n",
       "      <td>0</td>\n",
       "    </tr>\n",
       "  </tbody>\n",
       "</table>\n",
       "</div>"
      ],
      "text/plain": [
       "   Unnamed: 0              primaryName  averageRating  numVotes  tconst  \\\n",
       "0           0          'Ganja' Karuppu           8.10    1899.0       1   \n",
       "1           1  'Hurricane Ryu' Hariken           5.95     697.0       2   \n",
       "2           2    'Lee' George Quinones           7.10    2588.0       1   \n",
       "3           3    'Little Billy' Rhodes           3.90    1749.0       1   \n",
       "4           4      'Spring' Mark Adley           6.60    1279.0       1   \n",
       "\n",
       "   well_known_actor  \n",
       "0                 0  \n",
       "1                 0  \n",
       "2                 0  \n",
       "3                 0  \n",
       "4                 0  "
      ]
     },
     "execution_count": 22,
     "metadata": {},
     "output_type": "execute_result"
    }
   ],
   "source": [
    "actors = pd.read_csv('files/agg_data/actors.csv')\n",
    "actors.head()"
   ]
  },
  {
   "cell_type": "code",
   "execution_count": 23,
   "metadata": {},
   "outputs": [],
   "source": [
    "# 250k average vote and at least 2 movies\n",
    "actors['well_known'] = ((actors['numVotes'] >= 250000) & (actors['tconst'] > 2)).astype(int)\n",
    "well_known_actors = actors.loc[actors['well_known'] == 1, 'primaryName']"
   ]
  },
  {
   "cell_type": "code",
   "execution_count": 24,
   "metadata": {},
   "outputs": [],
   "source": [
    "movie_actors['has_well_known_actors'] = (movie_actors['primaryName'].isin(well_known_actors)).astype(int)\n",
    "\n",
    "# combine into 1 row per movie\n",
    "primary_actors = movie_actors.groupby('tconst')['primaryName'].apply(lambda x: list(x))\n",
    "well_known = movie_actors.groupby('tconst')['has_well_known_actors'].sum()\n",
    "\n",
    "movie_actors = movie_actors.drop_duplicates(subset='tconst').set_index('tconst')\n",
    "\n",
    "# add into column\n",
    "movie_actors['primary_actors'] = primary_actors.apply(lambda x: ','.join(x))\n",
    "movie_actors['has_well_known_actors'] = well_known\n",
    "\n",
    "movie_actors.reset_index(inplace = True)"
   ]
  },
  {
   "cell_type": "code",
   "execution_count": 25,
   "metadata": {},
   "outputs": [],
   "source": [
    "movie_actors.drop(columns= ['primaryName','category','characters','ordering'], inplace = True)\n",
    "movie_titles_short = movie_titles_short.merge(movie_actors, how = 'left', on = 'tconst')"
   ]
  },
  {
   "cell_type": "markdown",
   "metadata": {},
   "source": [
    "#### Fix columns and data from movie titles short"
   ]
  },
  {
   "cell_type": "code",
   "execution_count": 26,
   "metadata": {},
   "outputs": [],
   "source": [
    "movie_titles_short.drop(columns=['titleType','nconst_x','nconst_y'], inplace = True)"
   ]
  },
  {
   "cell_type": "code",
   "execution_count": 27,
   "metadata": {},
   "outputs": [],
   "source": [
    "movie_titles_short['has_well_known_actors'] = movie_titles_short['has_well_known_actors'].fillna(0)"
   ]
  },
  {
   "cell_type": "code",
   "execution_count": 28,
   "metadata": {},
   "outputs": [
    {
     "data": {
      "text/html": [
       "<div>\n",
       "<style scoped>\n",
       "    .dataframe tbody tr th:only-of-type {\n",
       "        vertical-align: middle;\n",
       "    }\n",
       "\n",
       "    .dataframe tbody tr th {\n",
       "        vertical-align: top;\n",
       "    }\n",
       "\n",
       "    .dataframe thead th {\n",
       "        text-align: right;\n",
       "    }\n",
       "</style>\n",
       "<table border=\"1\" class=\"dataframe\">\n",
       "  <thead>\n",
       "    <tr style=\"text-align: right;\">\n",
       "      <th></th>\n",
       "      <th>tconst</th>\n",
       "      <th>averageRating</th>\n",
       "    </tr>\n",
       "    <tr>\n",
       "      <th>has_well_known_actors</th>\n",
       "      <th></th>\n",
       "      <th></th>\n",
       "    </tr>\n",
       "  </thead>\n",
       "  <tbody>\n",
       "    <tr>\n",
       "      <th>False</th>\n",
       "      <td>3244</td>\n",
       "      <td>6.849630</td>\n",
       "    </tr>\n",
       "    <tr>\n",
       "      <th>True</th>\n",
       "      <td>416</td>\n",
       "      <td>7.065385</td>\n",
       "    </tr>\n",
       "  </tbody>\n",
       "</table>\n",
       "</div>"
      ],
      "text/plain": [
       "                       tconst  averageRating\n",
       "has_well_known_actors                       \n",
       "False                    3244       6.849630\n",
       "True                      416       7.065385"
      ]
     },
     "execution_count": 28,
     "metadata": {},
     "output_type": "execute_result"
    }
   ],
   "source": [
    "# consdier movies with at least 50k votes\n",
    "movie_titles_short[movie_titles_short['numVotes'] > 50000].groupby(movie_titles_short['has_well_known_actors'] > 0).agg({'tconst':'count','averageRating':'mean'})"
   ]
  },
  {
   "cell_type": "markdown",
   "metadata": {},
   "source": [
    "Having a well known director has larger effect"
   ]
  },
  {
   "cell_type": "markdown",
   "metadata": {},
   "source": [
    "### Other datasets\n",
    "\n",
    "Based from the data details, the tmd dataset from kaggle was collected on July 2017. The imdb data that we are working right now is regularly updated. Therefore we might not have data on 2018-2020 movies"
   ]
  },
  {
   "cell_type": "code",
   "execution_count": 29,
   "metadata": {},
   "outputs": [
    {
     "data": {
      "text/html": [
       "<div>\n",
       "<style scoped>\n",
       "    .dataframe tbody tr th:only-of-type {\n",
       "        vertical-align: middle;\n",
       "    }\n",
       "\n",
       "    .dataframe tbody tr th {\n",
       "        vertical-align: top;\n",
       "    }\n",
       "\n",
       "    .dataframe thead th {\n",
       "        text-align: right;\n",
       "    }\n",
       "</style>\n",
       "<table border=\"1\" class=\"dataframe\">\n",
       "  <thead>\n",
       "    <tr style=\"text-align: right;\">\n",
       "      <th></th>\n",
       "      <th>cast</th>\n",
       "      <th>crew</th>\n",
       "      <th>id</th>\n",
       "    </tr>\n",
       "  </thead>\n",
       "  <tbody>\n",
       "    <tr>\n",
       "      <th>0</th>\n",
       "      <td>[{'cast_id': 14, 'character': 'Woody (voice)',...</td>\n",
       "      <td>[{'credit_id': '52fe4284c3a36847f8024f49', 'de...</td>\n",
       "      <td>862</td>\n",
       "    </tr>\n",
       "    <tr>\n",
       "      <th>1</th>\n",
       "      <td>[{'cast_id': 1, 'character': 'Alan Parrish', '...</td>\n",
       "      <td>[{'credit_id': '52fe44bfc3a36847f80a7cd1', 'de...</td>\n",
       "      <td>8844</td>\n",
       "    </tr>\n",
       "    <tr>\n",
       "      <th>2</th>\n",
       "      <td>[{'cast_id': 2, 'character': 'Max Goldman', 'c...</td>\n",
       "      <td>[{'credit_id': '52fe466a9251416c75077a89', 'de...</td>\n",
       "      <td>15602</td>\n",
       "    </tr>\n",
       "    <tr>\n",
       "      <th>3</th>\n",
       "      <td>[{'cast_id': 1, 'character': \"Savannah 'Vannah...</td>\n",
       "      <td>[{'credit_id': '52fe44779251416c91011acb', 'de...</td>\n",
       "      <td>31357</td>\n",
       "    </tr>\n",
       "    <tr>\n",
       "      <th>4</th>\n",
       "      <td>[{'cast_id': 1, 'character': 'George Banks', '...</td>\n",
       "      <td>[{'credit_id': '52fe44959251416c75039ed7', 'de...</td>\n",
       "      <td>11862</td>\n",
       "    </tr>\n",
       "  </tbody>\n",
       "</table>\n",
       "</div>"
      ],
      "text/plain": [
       "                                                cast  \\\n",
       "0  [{'cast_id': 14, 'character': 'Woody (voice)',...   \n",
       "1  [{'cast_id': 1, 'character': 'Alan Parrish', '...   \n",
       "2  [{'cast_id': 2, 'character': 'Max Goldman', 'c...   \n",
       "3  [{'cast_id': 1, 'character': \"Savannah 'Vannah...   \n",
       "4  [{'cast_id': 1, 'character': 'George Banks', '...   \n",
       "\n",
       "                                                crew     id  \n",
       "0  [{'credit_id': '52fe4284c3a36847f8024f49', 'de...    862  \n",
       "1  [{'credit_id': '52fe44bfc3a36847f80a7cd1', 'de...   8844  \n",
       "2  [{'credit_id': '52fe466a9251416c75077a89', 'de...  15602  \n",
       "3  [{'credit_id': '52fe44779251416c91011acb', 'de...  31357  \n",
       "4  [{'credit_id': '52fe44959251416c75039ed7', 'de...  11862  "
      ]
     },
     "execution_count": 29,
     "metadata": {},
     "output_type": "execute_result"
    }
   ],
   "source": [
    "# cast, im not sure if this can be used now\n",
    "# we can get actor and director data from imdb dataset\n",
    "credits = pd.read_csv('files/tmd/credits.csv')\n",
    "credits.head()"
   ]
  },
  {
   "cell_type": "code",
   "execution_count": 30,
   "metadata": {},
   "outputs": [
    {
     "data": {
      "text/html": [
       "<div>\n",
       "<style scoped>\n",
       "    .dataframe tbody tr th:only-of-type {\n",
       "        vertical-align: middle;\n",
       "    }\n",
       "\n",
       "    .dataframe tbody tr th {\n",
       "        vertical-align: top;\n",
       "    }\n",
       "\n",
       "    .dataframe thead th {\n",
       "        text-align: right;\n",
       "    }\n",
       "</style>\n",
       "<table border=\"1\" class=\"dataframe\">\n",
       "  <thead>\n",
       "    <tr style=\"text-align: right;\">\n",
       "      <th></th>\n",
       "      <th>movieId</th>\n",
       "      <th>imdbId</th>\n",
       "      <th>tmdbId</th>\n",
       "    </tr>\n",
       "  </thead>\n",
       "  <tbody>\n",
       "    <tr>\n",
       "      <th>0</th>\n",
       "      <td>1</td>\n",
       "      <td>114709</td>\n",
       "      <td>862.0</td>\n",
       "    </tr>\n",
       "    <tr>\n",
       "      <th>1</th>\n",
       "      <td>2</td>\n",
       "      <td>113497</td>\n",
       "      <td>8844.0</td>\n",
       "    </tr>\n",
       "    <tr>\n",
       "      <th>2</th>\n",
       "      <td>3</td>\n",
       "      <td>113228</td>\n",
       "      <td>15602.0</td>\n",
       "    </tr>\n",
       "    <tr>\n",
       "      <th>3</th>\n",
       "      <td>4</td>\n",
       "      <td>114885</td>\n",
       "      <td>31357.0</td>\n",
       "    </tr>\n",
       "    <tr>\n",
       "      <th>4</th>\n",
       "      <td>5</td>\n",
       "      <td>113041</td>\n",
       "      <td>11862.0</td>\n",
       "    </tr>\n",
       "  </tbody>\n",
       "</table>\n",
       "</div>"
      ],
      "text/plain": [
       "   movieId  imdbId   tmdbId\n",
       "0        1  114709    862.0\n",
       "1        2  113497   8844.0\n",
       "2        3  113228  15602.0\n",
       "3        4  114885  31357.0\n",
       "4        5  113041  11862.0"
      ]
     },
     "execution_count": 30,
     "metadata": {},
     "output_type": "execute_result"
    }
   ],
   "source": [
    "# link to combine imdb and tmd data\n",
    "links = pd.read_csv('files/tmd/links.csv')\n",
    "links.head()"
   ]
  },
  {
   "cell_type": "code",
   "execution_count": 31,
   "metadata": {},
   "outputs": [],
   "source": [
    "# convert to int\n",
    "movie_titles_short['id_int'] = movie_titles['tconst'].str.replace('tt','').astype(int)"
   ]
  },
  {
   "cell_type": "markdown",
   "metadata": {},
   "source": [
    "#### Combine movie_titles_short with other data."
   ]
  },
  {
   "cell_type": "code",
   "execution_count": 32,
   "metadata": {},
   "outputs": [],
   "source": [
    "# around 23.3k missing ids\n",
    "movie_merge = movie_titles_short.merge(links, how = 'left', left_on= 'id_int', right_on= 'imdbId')"
   ]
  },
  {
   "cell_type": "code",
   "execution_count": 33,
   "metadata": {},
   "outputs": [
    {
     "data": {
      "text/html": [
       "<div>\n",
       "<style scoped>\n",
       "    .dataframe tbody tr th:only-of-type {\n",
       "        vertical-align: middle;\n",
       "    }\n",
       "\n",
       "    .dataframe tbody tr th {\n",
       "        vertical-align: top;\n",
       "    }\n",
       "\n",
       "    .dataframe thead th {\n",
       "        text-align: right;\n",
       "    }\n",
       "</style>\n",
       "<table border=\"1\" class=\"dataframe\">\n",
       "  <thead>\n",
       "    <tr style=\"text-align: right;\">\n",
       "      <th></th>\n",
       "      <th>id</th>\n",
       "      <th>keywords</th>\n",
       "    </tr>\n",
       "  </thead>\n",
       "  <tbody>\n",
       "    <tr>\n",
       "      <th>0</th>\n",
       "      <td>862</td>\n",
       "      <td>[{'id': 931, 'name': 'jealousy'}, {'id': 4290,...</td>\n",
       "    </tr>\n",
       "    <tr>\n",
       "      <th>1</th>\n",
       "      <td>8844</td>\n",
       "      <td>[{'id': 10090, 'name': 'board game'}, {'id': 1...</td>\n",
       "    </tr>\n",
       "    <tr>\n",
       "      <th>2</th>\n",
       "      <td>15602</td>\n",
       "      <td>[{'id': 1495, 'name': 'fishing'}, {'id': 12392...</td>\n",
       "    </tr>\n",
       "    <tr>\n",
       "      <th>3</th>\n",
       "      <td>31357</td>\n",
       "      <td>[{'id': 818, 'name': 'based on novel'}, {'id':...</td>\n",
       "    </tr>\n",
       "    <tr>\n",
       "      <th>4</th>\n",
       "      <td>11862</td>\n",
       "      <td>[{'id': 1009, 'name': 'baby'}, {'id': 1599, 'n...</td>\n",
       "    </tr>\n",
       "  </tbody>\n",
       "</table>\n",
       "</div>"
      ],
      "text/plain": [
       "      id                                           keywords\n",
       "0    862  [{'id': 931, 'name': 'jealousy'}, {'id': 4290,...\n",
       "1   8844  [{'id': 10090, 'name': 'board game'}, {'id': 1...\n",
       "2  15602  [{'id': 1495, 'name': 'fishing'}, {'id': 12392...\n",
       "3  31357  [{'id': 818, 'name': 'based on novel'}, {'id':...\n",
       "4  11862  [{'id': 1009, 'name': 'baby'}, {'id': 1599, 'n..."
      ]
     },
     "execution_count": 33,
     "metadata": {},
     "output_type": "execute_result"
    }
   ],
   "source": [
    "# keywords\n",
    "keywords = pd.read_csv('files/tmd/keywords.csv')\n",
    "keywords.head()"
   ]
  },
  {
   "cell_type": "code",
   "execution_count": 34,
   "metadata": {},
   "outputs": [],
   "source": [
    "movie_merge = movie_merge.merge(keywords, how = 'left', left_on='tmdbId', right_on= 'id')"
   ]
  },
  {
   "cell_type": "code",
   "execution_count": 35,
   "metadata": {},
   "outputs": [
    {
     "name": "stderr",
     "output_type": "stream",
     "text": [
      "C:\\Users\\ROG\\anaconda3\\envs\\ML_envi\\lib\\site-packages\\IPython\\core\\interactiveshell.py:3441: DtypeWarning: Columns (10) have mixed types.Specify dtype option on import or set low_memory=False.\n",
      "  exec(code_obj, self.user_global_ns, self.user_ns)\n"
     ]
    },
    {
     "data": {
      "text/html": [
       "<div>\n",
       "<style scoped>\n",
       "    .dataframe tbody tr th:only-of-type {\n",
       "        vertical-align: middle;\n",
       "    }\n",
       "\n",
       "    .dataframe tbody tr th {\n",
       "        vertical-align: top;\n",
       "    }\n",
       "\n",
       "    .dataframe thead th {\n",
       "        text-align: right;\n",
       "    }\n",
       "</style>\n",
       "<table border=\"1\" class=\"dataframe\">\n",
       "  <thead>\n",
       "    <tr style=\"text-align: right;\">\n",
       "      <th></th>\n",
       "      <th>adult</th>\n",
       "      <th>belongs_to_collection</th>\n",
       "      <th>budget</th>\n",
       "      <th>genres</th>\n",
       "      <th>homepage</th>\n",
       "      <th>id</th>\n",
       "      <th>imdb_id</th>\n",
       "      <th>original_language</th>\n",
       "      <th>original_title</th>\n",
       "      <th>overview</th>\n",
       "      <th>...</th>\n",
       "      <th>release_date</th>\n",
       "      <th>revenue</th>\n",
       "      <th>runtime</th>\n",
       "      <th>spoken_languages</th>\n",
       "      <th>status</th>\n",
       "      <th>tagline</th>\n",
       "      <th>title</th>\n",
       "      <th>video</th>\n",
       "      <th>vote_average</th>\n",
       "      <th>vote_count</th>\n",
       "    </tr>\n",
       "  </thead>\n",
       "  <tbody>\n",
       "    <tr>\n",
       "      <th>0</th>\n",
       "      <td>False</td>\n",
       "      <td>{'id': 10194, 'name': 'Toy Story Collection', ...</td>\n",
       "      <td>30000000</td>\n",
       "      <td>[{'id': 16, 'name': 'Animation'}, {'id': 35, '...</td>\n",
       "      <td>http://toystory.disney.com/toy-story</td>\n",
       "      <td>862</td>\n",
       "      <td>tt0114709</td>\n",
       "      <td>en</td>\n",
       "      <td>Toy Story</td>\n",
       "      <td>Led by Woody, Andy's toys live happily in his ...</td>\n",
       "      <td>...</td>\n",
       "      <td>1995-10-30</td>\n",
       "      <td>373554033.0</td>\n",
       "      <td>81.0</td>\n",
       "      <td>[{'iso_639_1': 'en', 'name': 'English'}]</td>\n",
       "      <td>Released</td>\n",
       "      <td>NaN</td>\n",
       "      <td>Toy Story</td>\n",
       "      <td>False</td>\n",
       "      <td>7.7</td>\n",
       "      <td>5415.0</td>\n",
       "    </tr>\n",
       "    <tr>\n",
       "      <th>1</th>\n",
       "      <td>False</td>\n",
       "      <td>NaN</td>\n",
       "      <td>65000000</td>\n",
       "      <td>[{'id': 12, 'name': 'Adventure'}, {'id': 14, '...</td>\n",
       "      <td>NaN</td>\n",
       "      <td>8844</td>\n",
       "      <td>tt0113497</td>\n",
       "      <td>en</td>\n",
       "      <td>Jumanji</td>\n",
       "      <td>When siblings Judy and Peter discover an encha...</td>\n",
       "      <td>...</td>\n",
       "      <td>1995-12-15</td>\n",
       "      <td>262797249.0</td>\n",
       "      <td>104.0</td>\n",
       "      <td>[{'iso_639_1': 'en', 'name': 'English'}, {'iso...</td>\n",
       "      <td>Released</td>\n",
       "      <td>Roll the dice and unleash the excitement!</td>\n",
       "      <td>Jumanji</td>\n",
       "      <td>False</td>\n",
       "      <td>6.9</td>\n",
       "      <td>2413.0</td>\n",
       "    </tr>\n",
       "    <tr>\n",
       "      <th>2</th>\n",
       "      <td>False</td>\n",
       "      <td>{'id': 119050, 'name': 'Grumpy Old Men Collect...</td>\n",
       "      <td>0</td>\n",
       "      <td>[{'id': 10749, 'name': 'Romance'}, {'id': 35, ...</td>\n",
       "      <td>NaN</td>\n",
       "      <td>15602</td>\n",
       "      <td>tt0113228</td>\n",
       "      <td>en</td>\n",
       "      <td>Grumpier Old Men</td>\n",
       "      <td>A family wedding reignites the ancient feud be...</td>\n",
       "      <td>...</td>\n",
       "      <td>1995-12-22</td>\n",
       "      <td>0.0</td>\n",
       "      <td>101.0</td>\n",
       "      <td>[{'iso_639_1': 'en', 'name': 'English'}]</td>\n",
       "      <td>Released</td>\n",
       "      <td>Still Yelling. Still Fighting. Still Ready for...</td>\n",
       "      <td>Grumpier Old Men</td>\n",
       "      <td>False</td>\n",
       "      <td>6.5</td>\n",
       "      <td>92.0</td>\n",
       "    </tr>\n",
       "    <tr>\n",
       "      <th>3</th>\n",
       "      <td>False</td>\n",
       "      <td>NaN</td>\n",
       "      <td>16000000</td>\n",
       "      <td>[{'id': 35, 'name': 'Comedy'}, {'id': 18, 'nam...</td>\n",
       "      <td>NaN</td>\n",
       "      <td>31357</td>\n",
       "      <td>tt0114885</td>\n",
       "      <td>en</td>\n",
       "      <td>Waiting to Exhale</td>\n",
       "      <td>Cheated on, mistreated and stepped on, the wom...</td>\n",
       "      <td>...</td>\n",
       "      <td>1995-12-22</td>\n",
       "      <td>81452156.0</td>\n",
       "      <td>127.0</td>\n",
       "      <td>[{'iso_639_1': 'en', 'name': 'English'}]</td>\n",
       "      <td>Released</td>\n",
       "      <td>Friends are the people who let you be yourself...</td>\n",
       "      <td>Waiting to Exhale</td>\n",
       "      <td>False</td>\n",
       "      <td>6.1</td>\n",
       "      <td>34.0</td>\n",
       "    </tr>\n",
       "    <tr>\n",
       "      <th>4</th>\n",
       "      <td>False</td>\n",
       "      <td>{'id': 96871, 'name': 'Father of the Bride Col...</td>\n",
       "      <td>0</td>\n",
       "      <td>[{'id': 35, 'name': 'Comedy'}]</td>\n",
       "      <td>NaN</td>\n",
       "      <td>11862</td>\n",
       "      <td>tt0113041</td>\n",
       "      <td>en</td>\n",
       "      <td>Father of the Bride Part II</td>\n",
       "      <td>Just when George Banks has recovered from his ...</td>\n",
       "      <td>...</td>\n",
       "      <td>1995-02-10</td>\n",
       "      <td>76578911.0</td>\n",
       "      <td>106.0</td>\n",
       "      <td>[{'iso_639_1': 'en', 'name': 'English'}]</td>\n",
       "      <td>Released</td>\n",
       "      <td>Just When His World Is Back To Normal... He's ...</td>\n",
       "      <td>Father of the Bride Part II</td>\n",
       "      <td>False</td>\n",
       "      <td>5.7</td>\n",
       "      <td>173.0</td>\n",
       "    </tr>\n",
       "  </tbody>\n",
       "</table>\n",
       "<p>5 rows × 24 columns</p>\n",
       "</div>"
      ],
      "text/plain": [
       "   adult                              belongs_to_collection    budget  \\\n",
       "0  False  {'id': 10194, 'name': 'Toy Story Collection', ...  30000000   \n",
       "1  False                                                NaN  65000000   \n",
       "2  False  {'id': 119050, 'name': 'Grumpy Old Men Collect...         0   \n",
       "3  False                                                NaN  16000000   \n",
       "4  False  {'id': 96871, 'name': 'Father of the Bride Col...         0   \n",
       "\n",
       "                                              genres  \\\n",
       "0  [{'id': 16, 'name': 'Animation'}, {'id': 35, '...   \n",
       "1  [{'id': 12, 'name': 'Adventure'}, {'id': 14, '...   \n",
       "2  [{'id': 10749, 'name': 'Romance'}, {'id': 35, ...   \n",
       "3  [{'id': 35, 'name': 'Comedy'}, {'id': 18, 'nam...   \n",
       "4                     [{'id': 35, 'name': 'Comedy'}]   \n",
       "\n",
       "                               homepage     id    imdb_id original_language  \\\n",
       "0  http://toystory.disney.com/toy-story    862  tt0114709                en   \n",
       "1                                   NaN   8844  tt0113497                en   \n",
       "2                                   NaN  15602  tt0113228                en   \n",
       "3                                   NaN  31357  tt0114885                en   \n",
       "4                                   NaN  11862  tt0113041                en   \n",
       "\n",
       "                original_title  \\\n",
       "0                    Toy Story   \n",
       "1                      Jumanji   \n",
       "2             Grumpier Old Men   \n",
       "3            Waiting to Exhale   \n",
       "4  Father of the Bride Part II   \n",
       "\n",
       "                                            overview  ... release_date  \\\n",
       "0  Led by Woody, Andy's toys live happily in his ...  ...   1995-10-30   \n",
       "1  When siblings Judy and Peter discover an encha...  ...   1995-12-15   \n",
       "2  A family wedding reignites the ancient feud be...  ...   1995-12-22   \n",
       "3  Cheated on, mistreated and stepped on, the wom...  ...   1995-12-22   \n",
       "4  Just when George Banks has recovered from his ...  ...   1995-02-10   \n",
       "\n",
       "       revenue runtime                                   spoken_languages  \\\n",
       "0  373554033.0    81.0           [{'iso_639_1': 'en', 'name': 'English'}]   \n",
       "1  262797249.0   104.0  [{'iso_639_1': 'en', 'name': 'English'}, {'iso...   \n",
       "2          0.0   101.0           [{'iso_639_1': 'en', 'name': 'English'}]   \n",
       "3   81452156.0   127.0           [{'iso_639_1': 'en', 'name': 'English'}]   \n",
       "4   76578911.0   106.0           [{'iso_639_1': 'en', 'name': 'English'}]   \n",
       "\n",
       "     status                                            tagline  \\\n",
       "0  Released                                                NaN   \n",
       "1  Released          Roll the dice and unleash the excitement!   \n",
       "2  Released  Still Yelling. Still Fighting. Still Ready for...   \n",
       "3  Released  Friends are the people who let you be yourself...   \n",
       "4  Released  Just When His World Is Back To Normal... He's ...   \n",
       "\n",
       "                         title  video vote_average vote_count  \n",
       "0                    Toy Story  False          7.7     5415.0  \n",
       "1                      Jumanji  False          6.9     2413.0  \n",
       "2             Grumpier Old Men  False          6.5       92.0  \n",
       "3            Waiting to Exhale  False          6.1       34.0  \n",
       "4  Father of the Bride Part II  False          5.7      173.0  \n",
       "\n",
       "[5 rows x 24 columns]"
      ]
     },
     "execution_count": 35,
     "metadata": {},
     "output_type": "execute_result"
    }
   ],
   "source": [
    "## movies metadaa\n",
    "metadata = pd.read_csv('files/tmd/movies_metadata.csv')\n",
    "metadata.head()"
   ]
  },
  {
   "cell_type": "code",
   "execution_count": 36,
   "metadata": {},
   "outputs": [],
   "source": [
    "# select only non adult movies\n",
    "metadata = metadata[metadata['adult'] == 'False']"
   ]
  },
  {
   "cell_type": "markdown",
   "metadata": {},
   "source": [
    "Can remove\n",
    "- poster_path: image of poster\n",
    "- id: already has existing imdb id"
   ]
  },
  {
   "cell_type": "code",
   "execution_count": 37,
   "metadata": {},
   "outputs": [],
   "source": [
    "metadata.drop(columns= ['poster_path','id','adult'], inplace = True)"
   ]
  },
  {
   "cell_type": "code",
   "execution_count": 38,
   "metadata": {},
   "outputs": [],
   "source": [
    "movie_merge = movie_merge.merge(metadata, how = 'left', left_on= 'tconst', right_on='imdb_id')"
   ]
  },
  {
   "cell_type": "code",
   "execution_count": 39,
   "metadata": {},
   "outputs": [
    {
     "data": {
      "text/plain": [
       "Index(['tconst', 'primaryTitle', 'originalTitle', 'startYear',\n",
       "       'runtimeMinutes', 'genres_x', 'averageRating', 'numVotes', 'directors',\n",
       "       'writers', 'has_well_known_director', 'directors_name',\n",
       "       'has_well_known_actors', 'primary_actors', 'id_int', 'movieId',\n",
       "       'imdbId', 'tmdbId', 'id', 'keywords', 'belongs_to_collection', 'budget',\n",
       "       'genres_y', 'homepage', 'imdb_id', 'original_language',\n",
       "       'original_title', 'overview', 'popularity', 'production_companies',\n",
       "       'production_countries', 'release_date', 'revenue', 'runtime',\n",
       "       'spoken_languages', 'status', 'tagline', 'title', 'video',\n",
       "       'vote_average', 'vote_count'],\n",
       "      dtype='object')"
      ]
     },
     "execution_count": 39,
     "metadata": {},
     "output_type": "execute_result"
    }
   ],
   "source": [
    "movie_merge.columns"
   ]
  },
  {
   "cell_type": "code",
   "execution_count": 40,
   "metadata": {},
   "outputs": [],
   "source": [
    "# genres_y is complete on metadata. \n",
    "movie_merge = movie_merge[movie_merge['genres_y'].notnull()]"
   ]
  },
  {
   "cell_type": "markdown",
   "metadata": {},
   "source": [
    "## Clean data"
   ]
  },
  {
   "cell_type": "code",
   "execution_count": 41,
   "metadata": {},
   "outputs": [],
   "source": [
    "import ast"
   ]
  },
  {
   "cell_type": "markdown",
   "metadata": {},
   "source": [
    "### Check data from JSON"
   ]
  },
  {
   "cell_type": "code",
   "execution_count": 42,
   "metadata": {},
   "outputs": [],
   "source": [
    "def check_json(col, sample = 5):\n",
    "    for json_data in movie_merge.sample(sample)[col]:\n",
    "        print(json_data)"
   ]
  },
  {
   "cell_type": "code",
   "execution_count": 43,
   "metadata": {},
   "outputs": [
    {
     "name": "stdout",
     "output_type": "stream",
     "text": [
      "****************************************************************************************************\n",
      "keywords\n",
      "nan\n",
      "nan\n",
      "nan\n",
      "[{'id': 212, 'name': 'london england'}, {'id': 164593, 'name': 'nightclub owner'}]\n",
      "nan\n",
      "****************************************************************************************************\n",
      "production_countries\n",
      "[{'iso_3166_1': 'US', 'name': 'United States of America'}]\n",
      "[{'iso_3166_1': 'US', 'name': 'United States of America'}]\n",
      "[{'iso_3166_1': 'US', 'name': 'United States of America'}]\n",
      "[{'iso_3166_1': 'US', 'name': 'United States of America'}]\n",
      "[{'iso_3166_1': 'US', 'name': 'United States of America'}]\n",
      "****************************************************************************************************\n",
      "production_companies\n",
      "[{'name': 'Europa Film', 'id': 1763}]\n",
      "[]\n",
      "[{'name': 'DesperaDo', 'id': 7831}]\n",
      "[]\n",
      "[]\n",
      "****************************************************************************************************\n",
      "spoken_languages\n",
      "[]\n",
      "[{'iso_639_1': 'en', 'name': 'English'}]\n",
      "[{'iso_639_1': 'it', 'name': 'Italiano'}]\n",
      "[{'iso_639_1': 'en', 'name': 'English'}]\n",
      "[{'iso_639_1': 'en', 'name': 'English'}]\n",
      "****************************************************************************************************\n",
      "genres_y\n",
      "[{'id': 99, 'name': 'Documentary'}]\n",
      "[{'id': 35, 'name': 'Comedy'}]\n",
      "[{'id': 28, 'name': 'Action'}, {'id': 12, 'name': 'Adventure'}, {'id': 18, 'name': 'Drama'}, {'id': 36, 'name': 'History'}, {'id': 10749, 'name': 'Romance'}, {'id': 10752, 'name': 'War'}]\n",
      "[{'id': 27, 'name': 'Horror'}, {'id': 37, 'name': 'Western'}]\n",
      "[{'id': 35, 'name': 'Comedy'}]\n",
      "****************************************************************************************************\n",
      "belongs_to_collection\n",
      "nan\n",
      "nan\n",
      "{'id': 148055, 'name': 'Camp Rock Collection', 'poster_path': '/4xOyXRsjxcKlgNWaBRvagtRF59Y.jpg', 'backdrop_path': '/itL2G9nPEaB6VD7ShsMSVqM1bSO.jpg'}\n",
      "nan\n",
      "nan\n"
     ]
    }
   ],
   "source": [
    "cols = ['keywords', 'production_countries','production_companies','spoken_languages','genres_y','belongs_to_collection']\n",
    "for col in cols: \n",
    "    print('*' * 100)\n",
    "    print(col)\n",
    "    check_json(col)"
   ]
  },
  {
   "cell_type": "code",
   "execution_count": 44,
   "metadata": {},
   "outputs": [],
   "source": [
    "# fill keywords with []\n",
    "movie_merge['keywords'] =  movie_merge['keywords'].fillna('[]')"
   ]
  },
  {
   "cell_type": "code",
   "execution_count": 45,
   "metadata": {},
   "outputs": [],
   "source": [
    "def clean_belongs_to_collection(entry):\n",
    "    if str(entry) == 'nan':\n",
    "        return '[]'\n",
    "    else: \n",
    "        return '[' + str(entry) + ']'\n",
    "\n",
    "movie_merge['belongs_to_collection'] = movie_merge['belongs_to_collection'].apply(clean_belongs_to_collection)"
   ]
  },
  {
   "cell_type": "code",
   "execution_count": 46,
   "metadata": {},
   "outputs": [],
   "source": [
    "# get elements from json\n",
    "def get_list_from_json(string, key = 'name'):\n",
    "    elements_list = []\n",
    "    try:\n",
    "        element_json =  ast.literal_eval(string)\n",
    "        for dictionary in element_json:\n",
    "            elements_list.append(dictionary[key])\n",
    "    except ValueError:\n",
    "        return 'Error'\n",
    "\n",
    "    return elements_list"
   ]
  },
  {
   "cell_type": "code",
   "execution_count": 47,
   "metadata": {},
   "outputs": [],
   "source": [
    "movie_merge['production_companies'] = movie_merge['production_companies'].apply(get_list_from_json)\n",
    "movie_merge['production_countries'] = movie_merge['production_countries'].apply(get_list_from_json, key = 'iso_3166_1')\n",
    "movie_merge['keywords'] = movie_merge['keywords'].apply(get_list_from_json)\n",
    "movie_merge['spoken_languages'] = movie_merge['spoken_languages'].apply(get_list_from_json)\n",
    "movie_merge['genres_y'] = movie_merge['genres_y'].apply(get_list_from_json)\n",
    "movie_merge['belongs_to_collection'] =  movie_merge['belongs_to_collection'].apply(get_list_from_json)"
   ]
  },
  {
   "cell_type": "markdown",
   "metadata": {},
   "source": [
    "### Drop some columns"
   ]
  },
  {
   "cell_type": "code",
   "execution_count": 51,
   "metadata": {},
   "outputs": [
    {
     "name": "stdout",
     "output_type": "stream",
     "text": [
      "Index(['tconst', 'primaryTitle', 'originalTitle', 'startYear',\n",
      "       'runtimeMinutes', 'genres_x', 'averageRating', 'numVotes', 'directors',\n",
      "       'writers', 'has_well_known_director', 'directors_name',\n",
      "       'has_well_known_actors', 'primary_actors', 'id_int', 'movieId',\n",
      "       'imdbId', 'tmdbId', 'id', 'keywords', 'belongs_to_collection', 'budget',\n",
      "       'genres_y', 'homepage', 'imdb_id', 'original_language',\n",
      "       'original_title', 'overview', 'popularity', 'production_companies',\n",
      "       'production_countries', 'release_date', 'revenue', 'runtime',\n",
      "       'spoken_languages', 'tagline', 'video', 'vote_average', 'vote_count'],\n",
      "      dtype='object')\n"
     ]
    }
   ],
   "source": [
    "print(movie_merge.columns)"
   ]
  },
  {
   "cell_type": "code",
   "execution_count": 52,
   "metadata": {},
   "outputs": [],
   "source": [
    "movie_merge = movie_merge.drop(columns=['writers','directors','movieId','imdbId','tmdbId','id','imdb_id','original_title','video'])"
   ]
  },
  {
   "cell_type": "code",
   "execution_count": 49,
   "metadata": {},
   "outputs": [],
   "source": [
    "# drop things that might not be used in the model\n",
    "movie_merge = movie_merge.drop(columns=['status','title'])"
   ]
  },
  {
   "cell_type": "markdown",
   "metadata": {},
   "source": [
    "### Feature Engineering"
   ]
  },
  {
   "cell_type": "code",
   "execution_count": 56,
   "metadata": {},
   "outputs": [],
   "source": [
    "def compute_rating(col, numVotes = 0):\n",
    "    if numVotes == 0:\n",
    "        df = movie_merge.groupby(col).agg({'tconst':'count','averageRating':'mean','weighted_rating':'mean'})\n",
    "        df.columns = ['num_movies','averageRating','averageWeightedRating']\n",
    "    else: \n",
    "        df = movie_merge[movie_merge['numVotes'] >= numVotes].groupby(col).agg({'tconst':'count','averageRating':'mean','weighted_rating':'mean'})\n",
    "        df.columns = ['num_movies','averageRating','averageWeightedRating']\n",
    "    return df"
   ]
  },
  {
   "cell_type": "code",
   "execution_count": 57,
   "metadata": {},
   "outputs": [],
   "source": [
    "# use minimum as 25000\n",
    "def compute_weighted_rating(row, min = 25000, C = 6.5):\n",
    "    if (row['numVotes'] == np.nan) | (row['averageRating'] == np.nan): \n",
    "        return -1\n",
    "    wr = ((row['numVotes']/ (row['numVotes'] + min)) * row['averageRating']) + ((min / (min + row['numVotes'])) * C) \n",
    "    return wr "
   ]
  },
  {
   "cell_type": "code",
   "execution_count": 58,
   "metadata": {},
   "outputs": [],
   "source": [
    "movie_merge['weighted_rating'] =  movie_merge.apply(compute_weighted_rating, axis = 1)"
   ]
  },
  {
   "cell_type": "markdown",
   "metadata": {},
   "source": [
    "#### Date"
   ]
  },
  {
   "cell_type": "code",
   "execution_count": 59,
   "metadata": {},
   "outputs": [],
   "source": [
    "movie_merge['release_date'] = pd.to_datetime(movie_merge['release_date'])"
   ]
  },
  {
   "cell_type": "code",
   "execution_count": 60,
   "metadata": {},
   "outputs": [],
   "source": [
    "# use release date instead\n",
    "movie_merge.drop(columns=['startYear'], inplace = True)"
   ]
  },
  {
   "cell_type": "markdown",
   "metadata": {},
   "source": [
    "#### Budget"
   ]
  },
  {
   "cell_type": "code",
   "execution_count": 61,
   "metadata": {},
   "outputs": [],
   "source": [
    "movie_merge['budget'] = movie_merge['budget'].astype(float)"
   ]
  },
  {
   "cell_type": "markdown",
   "metadata": {},
   "source": [
    "Adjust for inflation for year 2018"
   ]
  },
  {
   "cell_type": "code",
   "execution_count": 62,
   "metadata": {},
   "outputs": [],
   "source": [
    "import cpi \n",
    "cpi.update()"
   ]
  },
  {
   "cell_type": "code",
   "execution_count": 63,
   "metadata": {},
   "outputs": [
    {
     "data": {
      "text/plain": [
       "Timestamp('2018-12-31 00:00:00')"
      ]
     },
     "execution_count": 63,
     "metadata": {},
     "output_type": "execute_result"
    }
   ],
   "source": [
    "movie_merge['release_date'].max()"
   ]
  },
  {
   "cell_type": "code",
   "execution_count": 64,
   "metadata": {},
   "outputs": [],
   "source": [
    "def adjust_inflation(row, column, year_now = 2018):\n",
    "    budget = row[column]\n",
    "    year = row['release_date'].year\n",
    "\n",
    "    try: \n",
    "        inflated_value = cpi.inflate(budget, year, to = year_now)\n",
    "        return inflated_value\n",
    "    except:\n",
    "        return np.nan"
   ]
  },
  {
   "cell_type": "code",
   "execution_count": 65,
   "metadata": {},
   "outputs": [],
   "source": [
    "movie_merge['adjusted_budget'] =  movie_merge.apply(adjust_inflation, column = 'budget', axis = 1)"
   ]
  },
  {
   "cell_type": "code",
   "execution_count": 66,
   "metadata": {},
   "outputs": [
    {
     "data": {
      "text/plain": [
       "array([[1.        , 0.10020364],\n",
       "       [0.10020364, 1.        ]])"
      ]
     },
     "execution_count": 66,
     "metadata": {},
     "output_type": "execute_result"
    }
   ],
   "source": [
    "np.corrcoef(movie_merge.loc[movie_merge['adjusted_budget'] > 0,'adjusted_budget'], movie_merge.loc[movie_merge['adjusted_budget'] > 0,'averageRating'])"
   ]
  },
  {
   "cell_type": "markdown",
   "metadata": {},
   "source": [
    "#### Revenue\n",
    "\n",
    "Same calculation with budget"
   ]
  },
  {
   "cell_type": "code",
   "execution_count": 67,
   "metadata": {},
   "outputs": [],
   "source": [
    "movie_merge['adjusted_revenue'] =  movie_merge.apply(adjust_inflation, column = 'revenue',  axis = 1)"
   ]
  },
  {
   "cell_type": "markdown",
   "metadata": {},
   "source": [
    "#### RuntimeMinutes"
   ]
  },
  {
   "cell_type": "code",
   "execution_count": 68,
   "metadata": {},
   "outputs": [],
   "source": [
    "# just need to convert to float\n",
    "movie_merge['runtimeMinutes'] = movie_merge['runtimeMinutes'].astype(float)"
   ]
  },
  {
   "cell_type": "code",
   "execution_count": 69,
   "metadata": {},
   "outputs": [
    {
     "data": {
      "text/plain": [
       "Index(['tconst', 'primaryTitle', 'originalTitle', 'runtimeMinutes', 'genres_x',\n",
       "       'averageRating', 'numVotes', 'has_well_known_director',\n",
       "       'directors_name', 'has_well_known_actors', 'primary_actors', 'id_int',\n",
       "       'keywords', 'belongs_to_collection', 'budget', 'genres_y', 'homepage',\n",
       "       'original_language', 'overview', 'popularity', 'production_companies',\n",
       "       'production_countries', 'release_date', 'revenue', 'runtime',\n",
       "       'spoken_languages', 'tagline', 'vote_average', 'vote_count',\n",
       "       'weighted_rating', 'adjusted_budget', 'adjusted_revenue'],\n",
       "      dtype='object')"
      ]
     },
     "execution_count": 69,
     "metadata": {},
     "output_type": "execute_result"
    }
   ],
   "source": [
    "movie_merge.columns"
   ]
  },
  {
   "cell_type": "markdown",
   "metadata": {},
   "source": [
    "#### Belongs to collection\n",
    "\n",
    "Either 1 or 0"
   ]
  },
  {
   "cell_type": "code",
   "execution_count": 70,
   "metadata": {},
   "outputs": [],
   "source": [
    "movie_merge['belongs_to_collection'] = movie_merge['belongs_to_collection'].apply(lambda x: len(x))"
   ]
  },
  {
   "cell_type": "markdown",
   "metadata": {},
   "source": [
    "#### Original Language\n",
    "\n",
    "English or not"
   ]
  },
  {
   "cell_type": "code",
   "execution_count": 71,
   "metadata": {},
   "outputs": [],
   "source": [
    "movie_merge['original_english'] = (movie_merge['original_language'] == 'en').astype(int)"
   ]
  },
  {
   "cell_type": "markdown",
   "metadata": {},
   "source": [
    "#### Production companies"
   ]
  },
  {
   "cell_type": "code",
   "execution_count": 72,
   "metadata": {},
   "outputs": [],
   "source": [
    "movie_merge['has_production_companies'] = movie_merge['production_companies'].apply(lambda x: int(len(x) > 0))"
   ]
  },
  {
   "cell_type": "code",
   "execution_count": 73,
   "metadata": {},
   "outputs": [],
   "source": [
    "# get only top 3 production companies per movie\n",
    "movie_merge['production_companies'] = movie_merge['production_companies'].apply(lambda x: x[:3])"
   ]
  },
  {
   "cell_type": "code",
   "execution_count": 74,
   "metadata": {},
   "outputs": [],
   "source": [
    "prod_companies =  movie_merge[['tconst','primaryTitle','production_companies']]\n",
    "\n",
    "prod_companies = prod_companies.explode('production_companies')\n",
    "\n",
    "# https://blog.bizvibe.com/blog/top-movie-production-companies\n",
    "\n",
    "top_productions = ['Universal Pictures', 'Warner Bros.',\n",
    "                 'Columbia Pictures','Walt Disney Pictures',\n",
    "                  'Marvel Productions','Marvel Studios',\n",
    "                   'Marvel Entertainment', 'Marvel Enterprises',\n",
    "                   'Paramount Pictures','Twentieth Century Fox Film Corporation',\n",
    "                   'RatPac-Dune Entertainment','Legendary Pictures','Legendary Entertainment',\n",
    "                   'Relativity Media']\n",
    "\n",
    "prod_companies['is_top_production_company'] = prod_companies['production_companies'].isin(top_productions).astype(int)\n",
    "\n",
    "is_top_production = prod_companies.groupby('tconst')['is_top_production_company'].sum()\n",
    "\n",
    "prod_companies = prod_companies.drop_duplicates(subset='tconst').set_index('tconst')\n",
    "\n",
    "prod_companies['is_top_production_company'] = is_top_production\n",
    "\n",
    "\n",
    "prod_companies.reset_index(inplace = True)"
   ]
  },
  {
   "cell_type": "code",
   "execution_count": 75,
   "metadata": {},
   "outputs": [],
   "source": [
    "# merge with production company\n",
    "movie_merge = movie_merge.merge(prod_companies[['tconst','is_top_production_company']], how = 'left', on = 'tconst')"
   ]
  },
  {
   "cell_type": "code",
   "execution_count": 76,
   "metadata": {},
   "outputs": [],
   "source": [
    "movie_merge['is_top_production_company'] = movie_merge['is_top_production_company'].fillna(0)"
   ]
  },
  {
   "cell_type": "markdown",
   "metadata": {},
   "source": [
    "#### Production countries\n",
    "\n",
    "Count number of production countries"
   ]
  },
  {
   "cell_type": "code",
   "execution_count": 77,
   "metadata": {},
   "outputs": [],
   "source": [
    "def count_production_countries(country_list):\n",
    "    num_countries = len(country_list)\n",
    "    if num_countries == 0:\n",
    "        return '0'\n",
    "    elif num_countries == 1:\n",
    "        return '1'\n",
    "    elif num_countries == 2:\n",
    "        return '2'\n",
    "    elif num_countries >= 3:\n",
    "        return '3+'\n",
    "    else:\n",
    "        return -1\n",
    "    "
   ]
  },
  {
   "cell_type": "code",
   "execution_count": 78,
   "metadata": {},
   "outputs": [],
   "source": [
    "movie_merge['production_countries'] = movie_merge['production_countries'].apply(lambda x: len(x))"
   ]
  },
  {
   "cell_type": "markdown",
   "metadata": {},
   "source": [
    "#### Release date\n",
    "\n",
    "Add release month"
   ]
  },
  {
   "cell_type": "code",
   "execution_count": 79,
   "metadata": {},
   "outputs": [],
   "source": [
    "movie_merge['release_month'] =  movie_merge['release_date'].dt.month"
   ]
  },
  {
   "cell_type": "markdown",
   "metadata": {},
   "source": [
    "#### Tagline\n",
    "\n",
    "Just check if tagline isa available"
   ]
  },
  {
   "cell_type": "code",
   "execution_count": 80,
   "metadata": {},
   "outputs": [],
   "source": [
    "movie_merge['has_tag_line'] =  movie_merge['tagline'].notnull().astype(int)"
   ]
  },
  {
   "cell_type": "markdown",
   "metadata": {},
   "source": [
    "#### Spoken languages\n",
    "\n",
    "Use the same with production countries"
   ]
  },
  {
   "cell_type": "code",
   "execution_count": 81,
   "metadata": {},
   "outputs": [],
   "source": [
    "movie_merge['spoken_languages'] = movie_merge['spoken_languages'].apply(lambda x: len(x))"
   ]
  },
  {
   "cell_type": "markdown",
   "metadata": {},
   "source": [
    "#### Homepage\n",
    "\n",
    "Just check if the homepage is available or not"
   ]
  },
  {
   "cell_type": "code",
   "execution_count": 82,
   "metadata": {},
   "outputs": [],
   "source": [
    "movie_merge['homepage'] = movie_merge['homepage'].notnull().astype(int)"
   ]
  },
  {
   "cell_type": "code",
   "execution_count": 83,
   "metadata": {},
   "outputs": [],
   "source": [
    "movie_merge['has_well_known_director'] = (movie_merge['has_well_known_director'] > 0).astype(int)\n",
    "movie_merge['has_well_known_actors'] = (movie_merge['has_well_known_actors'] > 0).astype(int)\n",
    "movie_merge['is_top_production_company'] = (movie_merge['is_top_production_company'] > 0).astype(int)"
   ]
  },
  {
   "cell_type": "markdown",
   "metadata": {},
   "source": [
    "#### Save data"
   ]
  },
  {
   "cell_type": "code",
   "execution_count": 84,
   "metadata": {},
   "outputs": [],
   "source": [
    "# movie_merge.to_csv('merged_movies.csv', index = False)"
   ]
  },
  {
   "cell_type": "code",
   "execution_count": null,
   "metadata": {},
   "outputs": [],
   "source": []
  }
 ],
 "metadata": {
  "interpreter": {
   "hash": "e27bd88ca7cb4ab501a53f847c76f2d298208edfb9daf59b32f00af5bd4528cb"
  },
  "kernelspec": {
   "display_name": "Python 3.8.11 ('ML_envi')",
   "language": "python",
   "name": "python3"
  },
  "language_info": {
   "codemirror_mode": {
    "name": "ipython",
    "version": 3
   },
   "file_extension": ".py",
   "mimetype": "text/x-python",
   "name": "python",
   "nbconvert_exporter": "python",
   "pygments_lexer": "ipython3",
   "version": "3.8.11"
  },
  "orig_nbformat": 4
 },
 "nbformat": 4,
 "nbformat_minor": 2
}
