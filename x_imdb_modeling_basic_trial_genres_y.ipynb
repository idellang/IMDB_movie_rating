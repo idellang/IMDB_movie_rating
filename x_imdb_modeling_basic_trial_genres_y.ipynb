{
 "cells": [
  {
   "cell_type": "code",
   "execution_count": 1,
   "metadata": {},
   "outputs": [],
   "source": [
    "import pandas as pd \n",
    "import numpy as np \n",
    "import matplotlib.pyplot as plt\n",
    "import seaborn as sns\n",
    "\n",
    "%matplotlib inline"
   ]
  },
  {
   "cell_type": "code",
   "execution_count": 2,
   "metadata": {},
   "outputs": [],
   "source": [
    "data = pd.read_csv('merged_movies.csv')"
   ]
  },
  {
   "cell_type": "markdown",
   "metadata": {},
   "source": [
    "### For now use the weighted rating"
   ]
  },
  {
   "cell_type": "code",
   "execution_count": 3,
   "metadata": {},
   "outputs": [],
   "source": [
    "data = data.drop_duplicates(subset ='tconst')"
   ]
  },
  {
   "cell_type": "code",
   "execution_count": 4,
   "metadata": {},
   "outputs": [
    {
     "name": "stdout",
     "output_type": "stream",
     "text": [
      "(33295, 37)\n"
     ]
    },
    {
     "data": {
      "text/plain": [
       "Index(['tconst', 'primaryTitle', 'originalTitle', 'runtimeMinutes', 'genres_x',\n",
       "       'averageRating', 'numVotes', 'has_well_known_director',\n",
       "       'directors_name', 'has_well_known_actors', 'primary_actors', 'id_int',\n",
       "       'keywords', 'belongs_to_collection', 'budget', 'genres_y', 'homepage',\n",
       "       'original_language', 'overview', 'popularity', 'production_companies',\n",
       "       'production_countries', 'release_date', 'revenue', 'runtime',\n",
       "       'spoken_languages', 'tagline', 'vote_average', 'vote_count',\n",
       "       'weighted_rating', 'adjusted_budget', 'adjusted_revenue',\n",
       "       'original_english', 'has_production_companies',\n",
       "       'is_top_production_company', 'release_month', 'has_tag_line'],\n",
       "      dtype='object')"
      ]
     },
     "execution_count": 4,
     "metadata": {},
     "output_type": "execute_result"
    }
   ],
   "source": [
    "print(data.shape)\n",
    "data.columns"
   ]
  },
  {
   "cell_type": "markdown",
   "metadata": {},
   "source": [
    "### Select cols for model"
   ]
  },
  {
   "cell_type": "code",
   "execution_count": 5,
   "metadata": {},
   "outputs": [],
   "source": [
    "cols = ['runtimeMinutes', 'averageRating','numVotes','weighted_rating', 'runtime','vote_average','vote_count', # important features\n",
    "        'genres_x', 'genres_y', 'adjusted_budget', 'adjusted_revenue', 'release_month', # possible predictive features\n",
    "        'has_well_known_director','has_well_known_actors', 'is_top_production_company', # binary extracted features\n",
    "        'production_countries','belongs_to_collection','has_tag_line','homepage','spoken_languages','original_english',\n",
    "        'popularity','keywords','overview','directors_name','primary_actors' # for text\n",
    "        ]\n",
    "movie_models = data[cols]"
   ]
  },
  {
   "cell_type": "code",
   "execution_count": 6,
   "metadata": {},
   "outputs": [],
   "source": [
    "# for now select those with at least 5k votes\n",
    "movie_models = movie_models[movie_models['numVotes'] > 5000]"
   ]
  },
  {
   "cell_type": "code",
   "execution_count": 7,
   "metadata": {},
   "outputs": [],
   "source": [
    "remove_for_now_cols = ['runtime','vote_average','vote_count','averageRating','numVotes','genres_x','keywords','overview','primary_actors','directors_name','adjusted_revenue','popularity']\n",
    "model_cols = [col for col in movie_models.columns if col not in remove_for_now_cols]\n",
    "movie_models = movie_models[model_cols]"
   ]
  },
  {
   "cell_type": "code",
   "execution_count": 8,
   "metadata": {},
   "outputs": [
    {
     "data": {
      "text/plain": [
       "(2.81, 6.037]     1242\n",
       "(6.037, 6.258]    1241\n",
       "(6.258, 6.386]    1241\n",
       "(6.386, 6.5]      1612\n",
       "(6.5, 6.581]       870\n",
       "(6.581, 6.67]     1241\n",
       "(6.67, 6.77]      1241\n",
       "(6.77, 6.935]     1241\n",
       "(6.935, 7.224]    1241\n",
       "(7.224, 9.273]    1241\n",
       "Name: weighted_rating, dtype: int64"
      ]
     },
     "execution_count": 8,
     "metadata": {},
     "output_type": "execute_result"
    }
   ],
   "source": [
    "pd.qcut(movie_models['weighted_rating'], 10, duplicates= 'drop').value_counts().sort_index()"
   ]
  },
  {
   "cell_type": "markdown",
   "metadata": {},
   "source": [
    "7.2 to be considered top 10."
   ]
  },
  {
   "cell_type": "code",
   "execution_count": 9,
   "metadata": {},
   "outputs": [
    {
     "data": {
      "text/plain": [
       "runtimeMinutes               0\n",
       "weighted_rating              0\n",
       "genres_y                     0\n",
       "adjusted_budget              1\n",
       "release_month                1\n",
       "has_well_known_director      0\n",
       "has_well_known_actors        0\n",
       "is_top_production_company    0\n",
       "production_countries         0\n",
       "belongs_to_collection        0\n",
       "has_tag_line                 0\n",
       "homepage                     0\n",
       "spoken_languages             0\n",
       "original_english             0\n",
       "dtype: int64"
      ]
     },
     "execution_count": 9,
     "metadata": {},
     "output_type": "execute_result"
    }
   ],
   "source": [
    "movie_models.isnull().sum()"
   ]
  },
  {
   "cell_type": "code",
   "execution_count": 10,
   "metadata": {},
   "outputs": [],
   "source": [
    "movie_models.dropna(inplace = True)"
   ]
  },
  {
   "cell_type": "code",
   "execution_count": 11,
   "metadata": {},
   "outputs": [],
   "source": [
    "# binary weighted rating for now\n",
    "movie_models['weighted_rating'] = (movie_models['weighted_rating'] > 7).astype(int)"
   ]
  },
  {
   "cell_type": "markdown",
   "metadata": {},
   "source": [
    "### Preprocessing"
   ]
  },
  {
   "cell_type": "markdown",
   "metadata": {},
   "source": [
    "#### Convert month into category"
   ]
  },
  {
   "cell_type": "code",
   "execution_count": 12,
   "metadata": {},
   "outputs": [],
   "source": [
    "import calendar\n",
    "\n",
    "movie_models['release_month'] = movie_models.release_month.apply(lambda x: calendar.month_name[int(x)])"
   ]
  },
  {
   "cell_type": "markdown",
   "metadata": {},
   "source": [
    "### Convert columns"
   ]
  },
  {
   "cell_type": "code",
   "execution_count": 13,
   "metadata": {},
   "outputs": [
    {
     "data": {
      "text/plain": [
       "runtimeMinutes               float64\n",
       "weighted_rating                int32\n",
       "genres_y                      object\n",
       "adjusted_budget              float64\n",
       "release_month                 object\n",
       "has_well_known_director        int64\n",
       "has_well_known_actors          int64\n",
       "is_top_production_company      int64\n",
       "production_countries           int64\n",
       "belongs_to_collection          int64\n",
       "has_tag_line                   int64\n",
       "homepage                       int64\n",
       "spoken_languages               int64\n",
       "original_english               int64\n",
       "dtype: object"
      ]
     },
     "execution_count": 13,
     "metadata": {},
     "output_type": "execute_result"
    }
   ],
   "source": [
    "movie_models.dtypes"
   ]
  },
  {
   "cell_type": "code",
   "execution_count": 14,
   "metadata": {},
   "outputs": [],
   "source": [
    "num_cols = ['runtimeMinutes','adjusted_budget','production_countries','spoken_languages']\n",
    "cat_cols1 = ['genres_y','release_month']\n",
    "cat_cols2 = ['has_well_known_director','has_well_known_actors','is_top_production_company',\n",
    "            'belongs_to_collection','has_tag_line','homepage','original_english']"
   ]
  },
  {
   "cell_type": "code",
   "execution_count": 15,
   "metadata": {},
   "outputs": [],
   "source": [
    "movie_models[cat_cols2] = movie_models[cat_cols2].astype(object)"
   ]
  },
  {
   "cell_type": "code",
   "execution_count": 16,
   "metadata": {},
   "outputs": [
    {
     "data": {
      "text/plain": [
       "weighted_rating                int32\n",
       "production_countries           int64\n",
       "spoken_languages               int64\n",
       "runtimeMinutes               float64\n",
       "adjusted_budget              float64\n",
       "genres_y                      object\n",
       "release_month                 object\n",
       "has_well_known_director       object\n",
       "has_well_known_actors         object\n",
       "is_top_production_company     object\n",
       "belongs_to_collection         object\n",
       "has_tag_line                  object\n",
       "homepage                      object\n",
       "original_english              object\n",
       "dtype: object"
      ]
     },
     "execution_count": 16,
     "metadata": {},
     "output_type": "execute_result"
    }
   ],
   "source": [
    "movie_models.dtypes.sort_values()"
   ]
  },
  {
   "cell_type": "markdown",
   "metadata": {},
   "source": [
    "#### Filter those with budget > 0"
   ]
  },
  {
   "cell_type": "code",
   "execution_count": 17,
   "metadata": {},
   "outputs": [],
   "source": [
    "movie_models = movie_models[movie_models['adjusted_budget'] > 0]"
   ]
  },
  {
   "cell_type": "code",
   "execution_count": 18,
   "metadata": {},
   "outputs": [
    {
     "data": {
      "text/plain": [
       "(6189, 14)"
      ]
     },
     "execution_count": 18,
     "metadata": {},
     "output_type": "execute_result"
    }
   ],
   "source": [
    "movie_models.shape"
   ]
  },
  {
   "cell_type": "markdown",
   "metadata": {},
   "source": [
    "#### Dummy variables for genre"
   ]
  },
  {
   "cell_type": "code",
   "execution_count": 23,
   "metadata": {},
   "outputs": [],
   "source": [
    "import ast\n",
    "def get_genre(genres_list):\n",
    "    genres = ast.literal_eval(genres_list)\n",
    "    return ','.join([genre.strip() for genre in genres])"
   ]
  },
  {
   "cell_type": "code",
   "execution_count": 28,
   "metadata": {},
   "outputs": [
    {
     "data": {
      "text/html": [
       "<div>\n",
       "<style scoped>\n",
       "    .dataframe tbody tr th:only-of-type {\n",
       "        vertical-align: middle;\n",
       "    }\n",
       "\n",
       "    .dataframe tbody tr th {\n",
       "        vertical-align: top;\n",
       "    }\n",
       "\n",
       "    .dataframe thead th {\n",
       "        text-align: right;\n",
       "    }\n",
       "</style>\n",
       "<table border=\"1\" class=\"dataframe\">\n",
       "  <thead>\n",
       "    <tr style=\"text-align: right;\">\n",
       "      <th></th>\n",
       "      <th>Action</th>\n",
       "      <th>Adventure</th>\n",
       "      <th>Animation</th>\n",
       "      <th>Comedy</th>\n",
       "      <th>Crime</th>\n",
       "      <th>Documentary</th>\n",
       "      <th>Drama</th>\n",
       "      <th>Family</th>\n",
       "      <th>Fantasy</th>\n",
       "      <th>Foreign</th>\n",
       "      <th>History</th>\n",
       "      <th>Horror</th>\n",
       "      <th>Music</th>\n",
       "      <th>Mystery</th>\n",
       "      <th>Romance</th>\n",
       "      <th>Science Fiction</th>\n",
       "      <th>TV Movie</th>\n",
       "      <th>Thriller</th>\n",
       "      <th>War</th>\n",
       "      <th>Western</th>\n",
       "    </tr>\n",
       "  </thead>\n",
       "  <tbody>\n",
       "    <tr>\n",
       "      <th>21</th>\n",
       "      <td>0</td>\n",
       "      <td>0</td>\n",
       "      <td>0</td>\n",
       "      <td>0</td>\n",
       "      <td>0</td>\n",
       "      <td>0</td>\n",
       "      <td>1</td>\n",
       "      <td>0</td>\n",
       "      <td>0</td>\n",
       "      <td>0</td>\n",
       "      <td>1</td>\n",
       "      <td>0</td>\n",
       "      <td>0</td>\n",
       "      <td>0</td>\n",
       "      <td>0</td>\n",
       "      <td>0</td>\n",
       "      <td>0</td>\n",
       "      <td>0</td>\n",
       "      <td>1</td>\n",
       "      <td>0</td>\n",
       "    </tr>\n",
       "    <tr>\n",
       "      <th>33</th>\n",
       "      <td>0</td>\n",
       "      <td>0</td>\n",
       "      <td>0</td>\n",
       "      <td>0</td>\n",
       "      <td>0</td>\n",
       "      <td>0</td>\n",
       "      <td>1</td>\n",
       "      <td>0</td>\n",
       "      <td>0</td>\n",
       "      <td>0</td>\n",
       "      <td>0</td>\n",
       "      <td>0</td>\n",
       "      <td>0</td>\n",
       "      <td>0</td>\n",
       "      <td>0</td>\n",
       "      <td>0</td>\n",
       "      <td>0</td>\n",
       "      <td>0</td>\n",
       "      <td>0</td>\n",
       "      <td>0</td>\n",
       "    </tr>\n",
       "    <tr>\n",
       "      <th>62</th>\n",
       "      <td>0</td>\n",
       "      <td>0</td>\n",
       "      <td>0</td>\n",
       "      <td>0</td>\n",
       "      <td>1</td>\n",
       "      <td>0</td>\n",
       "      <td>1</td>\n",
       "      <td>0</td>\n",
       "      <td>0</td>\n",
       "      <td>0</td>\n",
       "      <td>0</td>\n",
       "      <td>1</td>\n",
       "      <td>0</td>\n",
       "      <td>0</td>\n",
       "      <td>0</td>\n",
       "      <td>0</td>\n",
       "      <td>0</td>\n",
       "      <td>1</td>\n",
       "      <td>0</td>\n",
       "      <td>0</td>\n",
       "    </tr>\n",
       "    <tr>\n",
       "      <th>86</th>\n",
       "      <td>0</td>\n",
       "      <td>0</td>\n",
       "      <td>0</td>\n",
       "      <td>1</td>\n",
       "      <td>0</td>\n",
       "      <td>0</td>\n",
       "      <td>1</td>\n",
       "      <td>0</td>\n",
       "      <td>0</td>\n",
       "      <td>0</td>\n",
       "      <td>0</td>\n",
       "      <td>0</td>\n",
       "      <td>0</td>\n",
       "      <td>0</td>\n",
       "      <td>0</td>\n",
       "      <td>0</td>\n",
       "      <td>0</td>\n",
       "      <td>0</td>\n",
       "      <td>0</td>\n",
       "      <td>0</td>\n",
       "    </tr>\n",
       "    <tr>\n",
       "      <th>101</th>\n",
       "      <td>0</td>\n",
       "      <td>0</td>\n",
       "      <td>0</td>\n",
       "      <td>0</td>\n",
       "      <td>0</td>\n",
       "      <td>1</td>\n",
       "      <td>0</td>\n",
       "      <td>0</td>\n",
       "      <td>0</td>\n",
       "      <td>0</td>\n",
       "      <td>0</td>\n",
       "      <td>0</td>\n",
       "      <td>0</td>\n",
       "      <td>0</td>\n",
       "      <td>0</td>\n",
       "      <td>0</td>\n",
       "      <td>0</td>\n",
       "      <td>0</td>\n",
       "      <td>0</td>\n",
       "      <td>0</td>\n",
       "    </tr>\n",
       "    <tr>\n",
       "      <th>...</th>\n",
       "      <td>...</td>\n",
       "      <td>...</td>\n",
       "      <td>...</td>\n",
       "      <td>...</td>\n",
       "      <td>...</td>\n",
       "      <td>...</td>\n",
       "      <td>...</td>\n",
       "      <td>...</td>\n",
       "      <td>...</td>\n",
       "      <td>...</td>\n",
       "      <td>...</td>\n",
       "      <td>...</td>\n",
       "      <td>...</td>\n",
       "      <td>...</td>\n",
       "      <td>...</td>\n",
       "      <td>...</td>\n",
       "      <td>...</td>\n",
       "      <td>...</td>\n",
       "      <td>...</td>\n",
       "      <td>...</td>\n",
       "    </tr>\n",
       "    <tr>\n",
       "      <th>33330</th>\n",
       "      <td>0</td>\n",
       "      <td>0</td>\n",
       "      <td>0</td>\n",
       "      <td>0</td>\n",
       "      <td>0</td>\n",
       "      <td>1</td>\n",
       "      <td>0</td>\n",
       "      <td>0</td>\n",
       "      <td>0</td>\n",
       "      <td>0</td>\n",
       "      <td>0</td>\n",
       "      <td>0</td>\n",
       "      <td>0</td>\n",
       "      <td>0</td>\n",
       "      <td>0</td>\n",
       "      <td>0</td>\n",
       "      <td>0</td>\n",
       "      <td>0</td>\n",
       "      <td>0</td>\n",
       "      <td>0</td>\n",
       "    </tr>\n",
       "    <tr>\n",
       "      <th>33353</th>\n",
       "      <td>0</td>\n",
       "      <td>0</td>\n",
       "      <td>0</td>\n",
       "      <td>0</td>\n",
       "      <td>0</td>\n",
       "      <td>0</td>\n",
       "      <td>1</td>\n",
       "      <td>0</td>\n",
       "      <td>1</td>\n",
       "      <td>0</td>\n",
       "      <td>0</td>\n",
       "      <td>0</td>\n",
       "      <td>0</td>\n",
       "      <td>0</td>\n",
       "      <td>1</td>\n",
       "      <td>0</td>\n",
       "      <td>0</td>\n",
       "      <td>0</td>\n",
       "      <td>0</td>\n",
       "      <td>0</td>\n",
       "    </tr>\n",
       "    <tr>\n",
       "      <th>33363</th>\n",
       "      <td>0</td>\n",
       "      <td>0</td>\n",
       "      <td>0</td>\n",
       "      <td>0</td>\n",
       "      <td>0</td>\n",
       "      <td>1</td>\n",
       "      <td>0</td>\n",
       "      <td>0</td>\n",
       "      <td>0</td>\n",
       "      <td>0</td>\n",
       "      <td>0</td>\n",
       "      <td>0</td>\n",
       "      <td>0</td>\n",
       "      <td>0</td>\n",
       "      <td>0</td>\n",
       "      <td>0</td>\n",
       "      <td>0</td>\n",
       "      <td>0</td>\n",
       "      <td>0</td>\n",
       "      <td>0</td>\n",
       "    </tr>\n",
       "    <tr>\n",
       "      <th>33393</th>\n",
       "      <td>0</td>\n",
       "      <td>0</td>\n",
       "      <td>0</td>\n",
       "      <td>0</td>\n",
       "      <td>0</td>\n",
       "      <td>0</td>\n",
       "      <td>0</td>\n",
       "      <td>0</td>\n",
       "      <td>0</td>\n",
       "      <td>0</td>\n",
       "      <td>0</td>\n",
       "      <td>1</td>\n",
       "      <td>0</td>\n",
       "      <td>1</td>\n",
       "      <td>0</td>\n",
       "      <td>1</td>\n",
       "      <td>0</td>\n",
       "      <td>0</td>\n",
       "      <td>0</td>\n",
       "      <td>0</td>\n",
       "    </tr>\n",
       "    <tr>\n",
       "      <th>33398</th>\n",
       "      <td>0</td>\n",
       "      <td>1</td>\n",
       "      <td>0</td>\n",
       "      <td>0</td>\n",
       "      <td>0</td>\n",
       "      <td>0</td>\n",
       "      <td>1</td>\n",
       "      <td>0</td>\n",
       "      <td>0</td>\n",
       "      <td>0</td>\n",
       "      <td>1</td>\n",
       "      <td>0</td>\n",
       "      <td>0</td>\n",
       "      <td>0</td>\n",
       "      <td>0</td>\n",
       "      <td>0</td>\n",
       "      <td>0</td>\n",
       "      <td>0</td>\n",
       "      <td>0</td>\n",
       "      <td>0</td>\n",
       "    </tr>\n",
       "  </tbody>\n",
       "</table>\n",
       "<p>6189 rows × 20 columns</p>\n",
       "</div>"
      ],
      "text/plain": [
       "       Action  Adventure  Animation  Comedy  Crime  Documentary  Drama  \\\n",
       "21          0          0          0       0      0            0      1   \n",
       "33          0          0          0       0      0            0      1   \n",
       "62          0          0          0       0      1            0      1   \n",
       "86          0          0          0       1      0            0      1   \n",
       "101         0          0          0       0      0            1      0   \n",
       "...       ...        ...        ...     ...    ...          ...    ...   \n",
       "33330       0          0          0       0      0            1      0   \n",
       "33353       0          0          0       0      0            0      1   \n",
       "33363       0          0          0       0      0            1      0   \n",
       "33393       0          0          0       0      0            0      0   \n",
       "33398       0          1          0       0      0            0      1   \n",
       "\n",
       "       Family  Fantasy  Foreign  History  Horror  Music  Mystery  Romance  \\\n",
       "21          0        0        0        1       0      0        0        0   \n",
       "33          0        0        0        0       0      0        0        0   \n",
       "62          0        0        0        0       1      0        0        0   \n",
       "86          0        0        0        0       0      0        0        0   \n",
       "101         0        0        0        0       0      0        0        0   \n",
       "...       ...      ...      ...      ...     ...    ...      ...      ...   \n",
       "33330       0        0        0        0       0      0        0        0   \n",
       "33353       0        1        0        0       0      0        0        1   \n",
       "33363       0        0        0        0       0      0        0        0   \n",
       "33393       0        0        0        0       1      0        1        0   \n",
       "33398       0        0        0        1       0      0        0        0   \n",
       "\n",
       "       Science Fiction  TV Movie  Thriller  War  Western  \n",
       "21                   0         0         0    1        0  \n",
       "33                   0         0         0    0        0  \n",
       "62                   0         0         1    0        0  \n",
       "86                   0         0         0    0        0  \n",
       "101                  0         0         0    0        0  \n",
       "...                ...       ...       ...  ...      ...  \n",
       "33330                0         0         0    0        0  \n",
       "33353                0         0         0    0        0  \n",
       "33363                0         0         0    0        0  \n",
       "33393                1         0         0    0        0  \n",
       "33398                0         0         0    0        0  \n",
       "\n",
       "[6189 rows x 20 columns]"
      ]
     },
     "execution_count": 28,
     "metadata": {},
     "output_type": "execute_result"
    }
   ],
   "source": [
    "genres_dummy =  movie_models['genres_y'].apply(get_genre).str.get_dummies(',')\n",
    "genres_dummy"
   ]
  },
  {
   "cell_type": "code",
   "execution_count": 29,
   "metadata": {},
   "outputs": [],
   "source": [
    "movie_models = pd.concat([movie_models, genres_dummy], axis = 1)"
   ]
  },
  {
   "cell_type": "code",
   "execution_count": 32,
   "metadata": {},
   "outputs": [],
   "source": [
    "movie_models.drop(columns=['genres_y'], inplace= True)"
   ]
  },
  {
   "cell_type": "code",
   "execution_count": 33,
   "metadata": {},
   "outputs": [
    {
     "name": "stdout",
     "output_type": "stream",
     "text": [
      "(6189, 33)\n"
     ]
    },
    {
     "data": {
      "text/html": [
       "<div>\n",
       "<style scoped>\n",
       "    .dataframe tbody tr th:only-of-type {\n",
       "        vertical-align: middle;\n",
       "    }\n",
       "\n",
       "    .dataframe tbody tr th {\n",
       "        vertical-align: top;\n",
       "    }\n",
       "\n",
       "    .dataframe thead th {\n",
       "        text-align: right;\n",
       "    }\n",
       "</style>\n",
       "<table border=\"1\" class=\"dataframe\">\n",
       "  <thead>\n",
       "    <tr style=\"text-align: right;\">\n",
       "      <th></th>\n",
       "      <th>runtimeMinutes</th>\n",
       "      <th>weighted_rating</th>\n",
       "      <th>adjusted_budget</th>\n",
       "      <th>release_month</th>\n",
       "      <th>has_well_known_director</th>\n",
       "      <th>has_well_known_actors</th>\n",
       "      <th>is_top_production_company</th>\n",
       "      <th>production_countries</th>\n",
       "      <th>belongs_to_collection</th>\n",
       "      <th>has_tag_line</th>\n",
       "      <th>...</th>\n",
       "      <th>History</th>\n",
       "      <th>Horror</th>\n",
       "      <th>Music</th>\n",
       "      <th>Mystery</th>\n",
       "      <th>Romance</th>\n",
       "      <th>Science Fiction</th>\n",
       "      <th>TV Movie</th>\n",
       "      <th>Thriller</th>\n",
       "      <th>War</th>\n",
       "      <th>Western</th>\n",
       "    </tr>\n",
       "  </thead>\n",
       "  <tbody>\n",
       "    <tr>\n",
       "      <th>21</th>\n",
       "      <td>195.0</td>\n",
       "      <td>0</td>\n",
       "      <td>2.486208e+06</td>\n",
       "      <td>February</td>\n",
       "      <td>0</td>\n",
       "      <td>0</td>\n",
       "      <td>0</td>\n",
       "      <td>1</td>\n",
       "      <td>0</td>\n",
       "      <td>1</td>\n",
       "      <td>...</td>\n",
       "      <td>1</td>\n",
       "      <td>0</td>\n",
       "      <td>0</td>\n",
       "      <td>0</td>\n",
       "      <td>0</td>\n",
       "      <td>0</td>\n",
       "      <td>0</td>\n",
       "      <td>0</td>\n",
       "      <td>1</td>\n",
       "      <td>0</td>\n",
       "    </tr>\n",
       "    <tr>\n",
       "      <th>33</th>\n",
       "      <td>163.0</td>\n",
       "      <td>0</td>\n",
       "      <td>1.933927e+08</td>\n",
       "      <td>September</td>\n",
       "      <td>0</td>\n",
       "      <td>0</td>\n",
       "      <td>0</td>\n",
       "      <td>1</td>\n",
       "      <td>0</td>\n",
       "      <td>1</td>\n",
       "      <td>...</td>\n",
       "      <td>0</td>\n",
       "      <td>0</td>\n",
       "      <td>0</td>\n",
       "      <td>0</td>\n",
       "      <td>0</td>\n",
       "      <td>0</td>\n",
       "      <td>0</td>\n",
       "      <td>0</td>\n",
       "      <td>0</td>\n",
       "      <td>0</td>\n",
       "    </tr>\n",
       "    <tr>\n",
       "      <th>62</th>\n",
       "      <td>76.0</td>\n",
       "      <td>1</td>\n",
       "      <td>2.259963e+05</td>\n",
       "      <td>February</td>\n",
       "      <td>0</td>\n",
       "      <td>0</td>\n",
       "      <td>0</td>\n",
       "      <td>1</td>\n",
       "      <td>0</td>\n",
       "      <td>1</td>\n",
       "      <td>...</td>\n",
       "      <td>0</td>\n",
       "      <td>1</td>\n",
       "      <td>0</td>\n",
       "      <td>0</td>\n",
       "      <td>0</td>\n",
       "      <td>0</td>\n",
       "      <td>0</td>\n",
       "      <td>1</td>\n",
       "      <td>0</td>\n",
       "      <td>0</td>\n",
       "    </tr>\n",
       "    <tr>\n",
       "      <th>86</th>\n",
       "      <td>68.0</td>\n",
       "      <td>1</td>\n",
       "      <td>3.507081e+06</td>\n",
       "      <td>January</td>\n",
       "      <td>0</td>\n",
       "      <td>0</td>\n",
       "      <td>0</td>\n",
       "      <td>1</td>\n",
       "      <td>0</td>\n",
       "      <td>1</td>\n",
       "      <td>...</td>\n",
       "      <td>0</td>\n",
       "      <td>0</td>\n",
       "      <td>0</td>\n",
       "      <td>0</td>\n",
       "      <td>0</td>\n",
       "      <td>0</td>\n",
       "      <td>0</td>\n",
       "      <td>0</td>\n",
       "      <td>0</td>\n",
       "      <td>0</td>\n",
       "    </tr>\n",
       "    <tr>\n",
       "      <th>101</th>\n",
       "      <td>78.0</td>\n",
       "      <td>0</td>\n",
       "      <td>7.921828e+05</td>\n",
       "      <td>June</td>\n",
       "      <td>0</td>\n",
       "      <td>0</td>\n",
       "      <td>0</td>\n",
       "      <td>1</td>\n",
       "      <td>0</td>\n",
       "      <td>1</td>\n",
       "      <td>...</td>\n",
       "      <td>0</td>\n",
       "      <td>0</td>\n",
       "      <td>0</td>\n",
       "      <td>0</td>\n",
       "      <td>0</td>\n",
       "      <td>0</td>\n",
       "      <td>0</td>\n",
       "      <td>0</td>\n",
       "      <td>0</td>\n",
       "      <td>0</td>\n",
       "    </tr>\n",
       "  </tbody>\n",
       "</table>\n",
       "<p>5 rows × 33 columns</p>\n",
       "</div>"
      ],
      "text/plain": [
       "     runtimeMinutes  weighted_rating  adjusted_budget release_month  \\\n",
       "21            195.0                0     2.486208e+06      February   \n",
       "33            163.0                0     1.933927e+08     September   \n",
       "62             76.0                1     2.259963e+05      February   \n",
       "86             68.0                1     3.507081e+06       January   \n",
       "101            78.0                0     7.921828e+05          June   \n",
       "\n",
       "    has_well_known_director has_well_known_actors is_top_production_company  \\\n",
       "21                        0                     0                         0   \n",
       "33                        0                     0                         0   \n",
       "62                        0                     0                         0   \n",
       "86                        0                     0                         0   \n",
       "101                       0                     0                         0   \n",
       "\n",
       "     production_countries belongs_to_collection has_tag_line  ... History  \\\n",
       "21                      1                     0            1  ...       1   \n",
       "33                      1                     0            1  ...       0   \n",
       "62                      1                     0            1  ...       0   \n",
       "86                      1                     0            1  ...       0   \n",
       "101                     1                     0            1  ...       0   \n",
       "\n",
       "     Horror Music  Mystery  Romance  Science Fiction  TV Movie  Thriller  War  \\\n",
       "21        0     0        0        0                0         0         0    1   \n",
       "33        0     0        0        0                0         0         0    0   \n",
       "62        1     0        0        0                0         0         1    0   \n",
       "86        0     0        0        0                0         0         0    0   \n",
       "101       0     0        0        0                0         0         0    0   \n",
       "\n",
       "     Western  \n",
       "21         0  \n",
       "33         0  \n",
       "62         0  \n",
       "86         0  \n",
       "101        0  \n",
       "\n",
       "[5 rows x 33 columns]"
      ]
     },
     "execution_count": 33,
     "metadata": {},
     "output_type": "execute_result"
    }
   ],
   "source": [
    "print(movie_models.shape)\n",
    "movie_models.head()"
   ]
  },
  {
   "cell_type": "code",
   "execution_count": 34,
   "metadata": {},
   "outputs": [],
   "source": [
    "# log of budget\n",
    "movie_models['adjusted_budget'] = np.log(movie_models['adjusted_budget'])"
   ]
  },
  {
   "cell_type": "markdown",
   "metadata": {},
   "source": [
    "#### Dummy variables for month"
   ]
  },
  {
   "cell_type": "code",
   "execution_count": 25,
   "metadata": {},
   "outputs": [],
   "source": [
    "# month_dummies =  movie_models['release_month'].str.get_dummies()\n",
    "# movie_models = pd.concat([movie_models, month_dummies], 1)\n",
    "# movie_models.drop(columns=['release_month'], inplace= True)"
   ]
  },
  {
   "cell_type": "markdown",
   "metadata": {},
   "source": [
    "#### Random shuffling for baseline"
   ]
  },
  {
   "cell_type": "code",
   "execution_count": 41,
   "metadata": {},
   "outputs": [
    {
     "name": "stdout",
     "output_type": "stream",
     "text": [
      "              precision    recall  f1-score   support\n",
      "\n",
      "           0       0.76      0.76      0.76      4750\n",
      "           1       0.22      0.22      0.22      1439\n",
      "\n",
      "    accuracy                           0.64      6189\n",
      "   macro avg       0.49      0.49      0.49      6189\n",
      "weighted avg       0.64      0.64      0.64      6189\n",
      "\n",
      "Logloss 12.523171979075173\n"
     ]
    }
   ],
   "source": [
    "from sklearn.utils import shuffle\n",
    "from sklearn.metrics import confusion_matrix,accuracy_score, classification_report, roc_auc_score, confusion_matrix, log_loss\n",
    "y = movie_models['weighted_rating'].values\n",
    "y_shuffle = shuffle(y)\n",
    "\n",
    "\n",
    "print(classification_report(y_pred= y_shuffle, y_true= y))\n",
    "print('Logloss', log_loss(y_pred= y_shuffle, y_true= y))"
   ]
  },
  {
   "cell_type": "markdown",
   "metadata": {},
   "source": [
    "#### Split data"
   ]
  },
  {
   "cell_type": "code",
   "execution_count": 42,
   "metadata": {},
   "outputs": [],
   "source": [
    "from sklearn.model_selection import train_test_split\n",
    "\n",
    "X_train, X_test, y_train, y_test = train_test_split(movie_models.drop(columns=['weighted_rating'], axis = 1), movie_models['weighted_rating'], \n",
    "                                        stratify= movie_models['weighted_rating'], test_size=.25, random_state=42)"
   ]
  },
  {
   "cell_type": "code",
   "execution_count": 43,
   "metadata": {},
   "outputs": [],
   "source": [
    "from sklearn.preprocessing import StandardScaler\n",
    "\n",
    "scaler = StandardScaler()\n",
    "X_train[num_cols] = scaler.fit_transform(X_train[num_cols])\n",
    "X_test[num_cols] =  scaler.transform(X_test[num_cols])"
   ]
  },
  {
   "cell_type": "code",
   "execution_count": 44,
   "metadata": {},
   "outputs": [],
   "source": [
    "import category_encoders as ce\n",
    "encoder = ce.TargetEncoder(cols =  ['release_month'] +  cat_cols2 + list(genres_dummy.columns))\n",
    "X_train_trans = encoder.fit_transform(X_train, y_train)\n",
    "X_test_trans = encoder.transform(X_test)\n",
    "\n",
    "# X_train_trans = X_train\n",
    "# X_test_trans = X_test"
   ]
  },
  {
   "cell_type": "code",
   "execution_count": 45,
   "metadata": {},
   "outputs": [
    {
     "name": "stdout",
     "output_type": "stream",
     "text": [
      "(4641, 32)\n",
      "(1548, 32)\n",
      "0.23249299719887956\n",
      "0.23255813953488372\n"
     ]
    }
   ],
   "source": [
    "print(X_train_trans.shape)\n",
    "print(X_test_trans.shape)\n",
    "print(y_train.mean())\n",
    "print(y_test.mean())"
   ]
  },
  {
   "cell_type": "code",
   "execution_count": 46,
   "metadata": {},
   "outputs": [
    {
     "data": {
      "text/html": [
       "<div>\n",
       "<style scoped>\n",
       "    .dataframe tbody tr th:only-of-type {\n",
       "        vertical-align: middle;\n",
       "    }\n",
       "\n",
       "    .dataframe tbody tr th {\n",
       "        vertical-align: top;\n",
       "    }\n",
       "\n",
       "    .dataframe thead th {\n",
       "        text-align: right;\n",
       "    }\n",
       "</style>\n",
       "<table border=\"1\" class=\"dataframe\">\n",
       "  <thead>\n",
       "    <tr style=\"text-align: right;\">\n",
       "      <th></th>\n",
       "      <th>runtimeMinutes</th>\n",
       "      <th>adjusted_budget</th>\n",
       "      <th>release_month</th>\n",
       "      <th>has_well_known_director</th>\n",
       "      <th>has_well_known_actors</th>\n",
       "      <th>is_top_production_company</th>\n",
       "      <th>production_countries</th>\n",
       "      <th>belongs_to_collection</th>\n",
       "      <th>has_tag_line</th>\n",
       "      <th>homepage</th>\n",
       "      <th>...</th>\n",
       "      <th>History</th>\n",
       "      <th>Horror</th>\n",
       "      <th>Music</th>\n",
       "      <th>Mystery</th>\n",
       "      <th>Romance</th>\n",
       "      <th>Science Fiction</th>\n",
       "      <th>TV Movie</th>\n",
       "      <th>Thriller</th>\n",
       "      <th>War</th>\n",
       "      <th>Western</th>\n",
       "    </tr>\n",
       "  </thead>\n",
       "  <tbody>\n",
       "    <tr>\n",
       "      <th>32647</th>\n",
       "      <td>1.328592</td>\n",
       "      <td>-0.324641</td>\n",
       "      <td>0.235935</td>\n",
       "      <td>0.202145</td>\n",
       "      <td>0.216353</td>\n",
       "      <td>0.272099</td>\n",
       "      <td>-0.486618</td>\n",
       "      <td>0.235653</td>\n",
       "      <td>0.162328</td>\n",
       "      <td>0.208724</td>\n",
       "      <td>...</td>\n",
       "      <td>0.376190</td>\n",
       "      <td>0.252488</td>\n",
       "      <td>0.231577</td>\n",
       "      <td>0.231782</td>\n",
       "      <td>0.236191</td>\n",
       "      <td>0.236907</td>\n",
       "      <td>0.232578</td>\n",
       "      <td>0.197977</td>\n",
       "      <td>0.225843</td>\n",
       "      <td>0.230972</td>\n",
       "    </tr>\n",
       "    <tr>\n",
       "      <th>21773</th>\n",
       "      <td>-0.780342</td>\n",
       "      <td>0.038247</td>\n",
       "      <td>0.232104</td>\n",
       "      <td>0.202145</td>\n",
       "      <td>0.216353</td>\n",
       "      <td>0.214532</td>\n",
       "      <td>-0.486618</td>\n",
       "      <td>0.235653</td>\n",
       "      <td>0.162328</td>\n",
       "      <td>0.280078</td>\n",
       "      <td>...</td>\n",
       "      <td>0.225683</td>\n",
       "      <td>0.103060</td>\n",
       "      <td>0.231577</td>\n",
       "      <td>0.231782</td>\n",
       "      <td>0.236191</td>\n",
       "      <td>0.236907</td>\n",
       "      <td>0.232578</td>\n",
       "      <td>0.247160</td>\n",
       "      <td>0.225843</td>\n",
       "      <td>0.230972</td>\n",
       "    </tr>\n",
       "    <tr>\n",
       "      <th>25427</th>\n",
       "      <td>-0.209172</td>\n",
       "      <td>-0.773568</td>\n",
       "      <td>0.235935</td>\n",
       "      <td>0.202145</td>\n",
       "      <td>0.216353</td>\n",
       "      <td>0.214532</td>\n",
       "      <td>-0.486618</td>\n",
       "      <td>0.235653</td>\n",
       "      <td>0.243982</td>\n",
       "      <td>0.280078</td>\n",
       "      <td>...</td>\n",
       "      <td>0.225683</td>\n",
       "      <td>0.252488</td>\n",
       "      <td>0.231577</td>\n",
       "      <td>0.231782</td>\n",
       "      <td>0.215733</td>\n",
       "      <td>0.236907</td>\n",
       "      <td>0.232578</td>\n",
       "      <td>0.247160</td>\n",
       "      <td>0.225843</td>\n",
       "      <td>0.230972</td>\n",
       "    </tr>\n",
       "    <tr>\n",
       "      <th>21501</th>\n",
       "      <td>-0.956086</td>\n",
       "      <td>0.112470</td>\n",
       "      <td>0.202941</td>\n",
       "      <td>0.202145</td>\n",
       "      <td>0.216353</td>\n",
       "      <td>0.214532</td>\n",
       "      <td>-0.486618</td>\n",
       "      <td>0.221470</td>\n",
       "      <td>0.243982</td>\n",
       "      <td>0.208724</td>\n",
       "      <td>...</td>\n",
       "      <td>0.225683</td>\n",
       "      <td>0.252488</td>\n",
       "      <td>0.231577</td>\n",
       "      <td>0.231782</td>\n",
       "      <td>0.236191</td>\n",
       "      <td>0.236907</td>\n",
       "      <td>0.232578</td>\n",
       "      <td>0.247160</td>\n",
       "      <td>0.225843</td>\n",
       "      <td>0.230972</td>\n",
       "    </tr>\n",
       "    <tr>\n",
       "      <th>28456</th>\n",
       "      <td>-0.868214</td>\n",
       "      <td>-0.491424</td>\n",
       "      <td>0.191136</td>\n",
       "      <td>0.202145</td>\n",
       "      <td>0.477352</td>\n",
       "      <td>0.214532</td>\n",
       "      <td>-0.486618</td>\n",
       "      <td>0.235653</td>\n",
       "      <td>0.243982</td>\n",
       "      <td>0.208724</td>\n",
       "      <td>...</td>\n",
       "      <td>0.225683</td>\n",
       "      <td>0.252488</td>\n",
       "      <td>0.231577</td>\n",
       "      <td>0.231782</td>\n",
       "      <td>0.215733</td>\n",
       "      <td>0.236907</td>\n",
       "      <td>0.232578</td>\n",
       "      <td>0.247160</td>\n",
       "      <td>0.225843</td>\n",
       "      <td>0.230972</td>\n",
       "    </tr>\n",
       "  </tbody>\n",
       "</table>\n",
       "<p>5 rows × 32 columns</p>\n",
       "</div>"
      ],
      "text/plain": [
       "       runtimeMinutes  adjusted_budget  release_month  \\\n",
       "32647        1.328592        -0.324641       0.235935   \n",
       "21773       -0.780342         0.038247       0.232104   \n",
       "25427       -0.209172        -0.773568       0.235935   \n",
       "21501       -0.956086         0.112470       0.202941   \n",
       "28456       -0.868214        -0.491424       0.191136   \n",
       "\n",
       "       has_well_known_director  has_well_known_actors  \\\n",
       "32647                 0.202145               0.216353   \n",
       "21773                 0.202145               0.216353   \n",
       "25427                 0.202145               0.216353   \n",
       "21501                 0.202145               0.216353   \n",
       "28456                 0.202145               0.477352   \n",
       "\n",
       "       is_top_production_company  production_countries  belongs_to_collection  \\\n",
       "32647                   0.272099             -0.486618               0.235653   \n",
       "21773                   0.214532             -0.486618               0.235653   \n",
       "25427                   0.214532             -0.486618               0.235653   \n",
       "21501                   0.214532             -0.486618               0.221470   \n",
       "28456                   0.214532             -0.486618               0.235653   \n",
       "\n",
       "       has_tag_line  homepage  ...   History    Horror     Music   Mystery  \\\n",
       "32647      0.162328  0.208724  ...  0.376190  0.252488  0.231577  0.231782   \n",
       "21773      0.162328  0.280078  ...  0.225683  0.103060  0.231577  0.231782   \n",
       "25427      0.243982  0.280078  ...  0.225683  0.252488  0.231577  0.231782   \n",
       "21501      0.243982  0.208724  ...  0.225683  0.252488  0.231577  0.231782   \n",
       "28456      0.243982  0.208724  ...  0.225683  0.252488  0.231577  0.231782   \n",
       "\n",
       "        Romance  Science Fiction  TV Movie  Thriller       War   Western  \n",
       "32647  0.236191         0.236907  0.232578  0.197977  0.225843  0.230972  \n",
       "21773  0.236191         0.236907  0.232578  0.247160  0.225843  0.230972  \n",
       "25427  0.215733         0.236907  0.232578  0.247160  0.225843  0.230972  \n",
       "21501  0.236191         0.236907  0.232578  0.247160  0.225843  0.230972  \n",
       "28456  0.215733         0.236907  0.232578  0.247160  0.225843  0.230972  \n",
       "\n",
       "[5 rows x 32 columns]"
      ]
     },
     "execution_count": 46,
     "metadata": {},
     "output_type": "execute_result"
    }
   ],
   "source": [
    "X_train_trans.head()"
   ]
  },
  {
   "cell_type": "markdown",
   "metadata": {},
   "source": [
    "### Modeling"
   ]
  },
  {
   "cell_type": "markdown",
   "metadata": {},
   "source": [
    "#### Naive Bayes\n",
    "\n",
    "Use as baseline metrics along with random shuffle"
   ]
  },
  {
   "cell_type": "code",
   "execution_count": 47,
   "metadata": {},
   "outputs": [
    {
     "name": "stdout",
     "output_type": "stream",
     "text": [
      "              precision    recall  f1-score   support\n",
      "\n",
      "           0       0.83      0.80      0.82      1188\n",
      "           1       0.42      0.46      0.44       360\n",
      "\n",
      "    accuracy                           0.73      1548\n",
      "   macro avg       0.63      0.63      0.63      1548\n",
      "weighted avg       0.74      0.73      0.73      1548\n",
      "\n",
      "AUC train:0.7297\n",
      "AUC test :0.745\n",
      "\n",
      "Logloss 9.482665035168505\n"
     ]
    },
    {
     "data": {
      "text/plain": [
       "<AxesSubplot:>"
      ]
     },
     "execution_count": 47,
     "metadata": {},
     "output_type": "execute_result"
    },
    {
     "data": {
      "image/png": "[encoded data removed]",
      "text/plain": [
       "<Figure size 432x288 with 1 Axes>"
      ]
     },
     "metadata": {
      "needs_background": "light"
     },
     "output_type": "display_data"
    }
   ],
   "source": [
    "import seaborn as sns\n",
    "from sklearn.naive_bayes import GaussianNB\n",
    "\n",
    "NB_clf = GaussianNB()\n",
    "NB_clf.fit(X_train_trans, y_train)\n",
    "\n",
    "\n",
    "y_pred  =  NB_clf.predict(X_test_trans)\n",
    "\n",
    "print(classification_report(y_pred= y_pred, y_true= y_test))\n",
    "\n",
    "proba_train = NB_clf.predict_proba(X_train_trans)[:,1]\n",
    "proba_test = NB_clf.predict_proba(X_test_trans)[:,1]\n",
    "\n",
    "print(f\"AUC train:{round(roc_auc_score(y_train, proba_train),4)}\")\n",
    "print(f\"AUC test :{round(roc_auc_score(y_test, proba_test),4)}\\n\")\n",
    "print('Logloss', log_loss(y_pred= y_pred, y_true= y_test))\n",
    "\n",
    "cm = confusion_matrix(y_pred= y_pred, y_true= y_test)\n",
    "\n",
    "sns.heatmap(cm, annot=True, cbar = False, fmt = 'g', cmap ='Blues')\n"
   ]
  },
  {
   "cell_type": "markdown",
   "metadata": {},
   "source": [
    "### Random Forest\n",
    "\n",
    "Identify feature importances."
   ]
  },
  {
   "cell_type": "code",
   "execution_count": 48,
   "metadata": {},
   "outputs": [
    {
     "name": "stdout",
     "output_type": "stream",
     "text": [
      "Fitting 3 folds for each of 100 candidates, totalling 300 fits\n"
     ]
    },
    {
     "data": {
      "text/plain": [
       "RandomizedSearchCV(cv=3, estimator=RandomForestClassifier(), n_iter=100,\n",
       "                   n_jobs=-1,\n",
       "                   param_distributions={'bootstrap': [True, False],\n",
       "                                        'class_weight': ['balanced',\n",
       "                                                         {0: 1, 1: 2},\n",
       "                                                         {0: 1, 1: 3}],\n",
       "                                        'max_depth': [10, 20, 30, 40, 50, 60,\n",
       "                                                      70, 80, 90, 100, None],\n",
       "                                        'max_features': ['auto', 'sqrt'],\n",
       "                                        'min_samples_leaf': [1, 2, 4],\n",
       "                                        'min_samples_split': [2, 5, 10],\n",
       "                                        'n_estimators': [130, 180, 230]},\n",
       "                   random_state=42, scoring='f1', verbose=2)"
      ]
     },
     "execution_count": 48,
     "metadata": {},
     "output_type": "execute_result"
    }
   ],
   "source": [
    "from sklearn.ensemble import RandomForestClassifier\n",
    "from sklearn.model_selection import RandomizedSearchCV, GridSearchCV\n",
    "\n",
    "params = {'bootstrap': [True, False],\n",
    "               'max_depth': [10, 20, 30, 40, 50, 60, 70, 80, 90, 100, None],\n",
    "               'max_features': ['auto', 'sqrt'],\n",
    "               'min_samples_leaf': [1, 2, 4],\n",
    "               'min_samples_split': [2, 5, 10],\n",
    "               'n_estimators': [130, 180, 230], \n",
    "               'class_weight': ['balanced',{0:1,1:2}, {0:1, 1:3}]}\n",
    "\n",
    "\n",
    "rf_clf = RandomForestClassifier()\n",
    "rf_grid = RandomizedSearchCV(estimator = rf_clf, scoring='f1', param_distributions= params, n_iter = 100, cv = 3, verbose=2, random_state=42, n_jobs = -1)\n",
    "\n",
    "rf_grid.fit(X_train_trans, y_train)"
   ]
  },
  {
   "cell_type": "code",
   "execution_count": 49,
   "metadata": {},
   "outputs": [
    {
     "data": {
      "text/plain": [
       "RandomForestClassifier(class_weight={0: 1, 1: 3}, max_depth=20,\n",
       "                       max_features='sqrt', min_samples_leaf=4,\n",
       "                       min_samples_split=5, n_estimators=230)"
      ]
     },
     "execution_count": 49,
     "metadata": {},
     "output_type": "execute_result"
    }
   ],
   "source": [
    "best_rf = rf_grid.best_estimator_\n",
    "best_rf"
   ]
  },
  {
   "cell_type": "code",
   "execution_count": 50,
   "metadata": {},
   "outputs": [
    {
     "name": "stdout",
     "output_type": "stream",
     "text": [
      "              precision    recall  f1-score   support\n",
      "\n",
      "           0       0.86      0.85      0.85      1188\n",
      "           1       0.52      0.54      0.53       360\n",
      "\n",
      "    accuracy                           0.78      1548\n",
      "   macro avg       0.69      0.70      0.69      1548\n",
      "weighted avg       0.78      0.78      0.78      1548\n",
      "\n",
      "AUC train:0.9484\n",
      "AUC test :0.7934\n",
      "\n",
      "Logloss 7.675376619758856\n"
     ]
    },
    {
     "data": {
      "text/plain": [
       "<AxesSubplot:>"
      ]
     },
     "execution_count": 50,
     "metadata": {},
     "output_type": "execute_result"
    },
    {
     "data": {
      "image/png": "[encoded data removed]",
      "text/plain": [
       "<Figure size 432x288 with 1 Axes>"
      ]
     },
     "metadata": {
      "needs_background": "light"
     },
     "output_type": "display_data"
    }
   ],
   "source": [
    "y_pred  =  best_rf.predict(X_test_trans)\n",
    "\n",
    "print(classification_report(y_pred= y_pred, y_true= y_test))\n",
    "\n",
    "proba_train = best_rf.predict_proba(X_train_trans)[:,1]\n",
    "proba_test = best_rf.predict_proba(X_test_trans)[:,1]\n",
    "\n",
    "print(f\"AUC train:{round(roc_auc_score(y_train, proba_train),4)}\")\n",
    "print(f\"AUC test :{round(roc_auc_score(y_test, proba_test),4)}\\n\")\n",
    "print('Logloss', log_loss(y_pred= y_pred, y_true= y_test))\n",
    "\n",
    "cm = confusion_matrix(y_pred= y_pred, y_true= y_test)\n",
    "sns.heatmap(cm, annot=True, cbar = False, fmt = 'g', cmap ='Blues')"
   ]
  },
  {
   "cell_type": "code",
   "execution_count": 51,
   "metadata": {},
   "outputs": [
    {
     "data": {
      "text/plain": [
       "runtimeMinutes               0.255420\n",
       "adjusted_budget              0.145324\n",
       "release_month                0.088939\n",
       "has_well_known_director      0.075929\n",
       "Drama                        0.048692\n",
       "spoken_languages             0.034126\n",
       "Comedy                       0.028475\n",
       "production_countries         0.025894\n",
       "Action                       0.024371\n",
       "Horror                       0.023797\n",
       "homepage                     0.023741\n",
       "is_top_production_company    0.022182\n",
       "has_tag_line                 0.021732\n",
       "Thriller                     0.018935\n",
       "has_well_known_actors        0.018388\n",
       "dtype: float64"
      ]
     },
     "execution_count": 51,
     "metadata": {},
     "output_type": "execute_result"
    }
   ],
   "source": [
    "importances = pd.Series(best_rf.feature_importances_, index = X_train_trans.columns)\n",
    "importances.sort_values(ascending = False)[:15]"
   ]
  },
  {
   "cell_type": "code",
   "execution_count": null,
   "metadata": {},
   "outputs": [],
   "source": []
  }
 ],
 "metadata": {
  "interpreter": {
   "hash": "e27bd88ca7cb4ab501a53f847c76f2d298208edfb9daf59b32f00af5bd4528cb"
  },
  "kernelspec": {
   "display_name": "Python 3.8.11 ('ML_envi')",
   "language": "python",
   "name": "python3"
  },
  "language_info": {
   "codemirror_mode": {
    "name": "ipython",
    "version": 3
   },
   "file_extension": ".py",
   "mimetype": "text/x-python",
   "name": "python",
   "nbconvert_exporter": "python",
   "pygments_lexer": "ipython3",
   "version": "3.8.11"
  },
  "orig_nbformat": 4
 },
 "nbformat": 4,
 "nbformat_minor": 2
}
